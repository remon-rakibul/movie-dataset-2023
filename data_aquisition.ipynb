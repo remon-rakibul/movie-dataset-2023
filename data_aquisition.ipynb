{
 "cells": [
  {
   "cell_type": "code",
   "execution_count": 1,
   "metadata": {},
   "outputs": [],
   "source": [
    "import pandas as pd\n",
    "import numpy as np"
   ]
  },
  {
   "cell_type": "code",
   "execution_count": 2,
   "metadata": {},
   "outputs": [],
   "source": [
    "df = pd.read_csv('data/data_filled.csv')"
   ]
  },
  {
   "cell_type": "code",
   "execution_count": 3,
   "metadata": {},
   "outputs": [],
   "source": [
    "df_parts = np.array_split(df, 15)"
   ]
  },
  {
   "cell_type": "code",
   "execution_count": 4,
   "metadata": {},
   "outputs": [
    {
     "data": {
      "text/plain": [
       "50581"
      ]
     },
     "execution_count": 4,
     "metadata": {},
     "output_type": "execute_result"
    }
   ],
   "source": [
    "len(df)"
   ]
  },
  {
   "cell_type": "code",
   "execution_count": 5,
   "metadata": {},
   "outputs": [
    {
     "data": {
      "text/plain": [
       "3373"
      ]
     },
     "execution_count": 5,
     "metadata": {},
     "output_type": "execute_result"
    }
   ],
   "source": [
    "len(df_parts[0])"
   ]
  },
  {
   "cell_type": "code",
   "execution_count": 3,
   "metadata": {},
   "outputs": [
    {
     "data": {
      "text/html": [
       "<div>\n",
       "<style scoped>\n",
       "    .dataframe tbody tr th:only-of-type {\n",
       "        vertical-align: middle;\n",
       "    }\n",
       "\n",
       "    .dataframe tbody tr th {\n",
       "        vertical-align: top;\n",
       "    }\n",
       "\n",
       "    .dataframe thead th {\n",
       "        text-align: right;\n",
       "    }\n",
       "</style>\n",
       "<table border=\"1\" class=\"dataframe\">\n",
       "  <thead>\n",
       "    <tr style=\"text-align: right;\">\n",
       "      <th></th>\n",
       "      <th>title</th>\n",
       "      <th>director_name</th>\n",
       "      <th>production_companies</th>\n",
       "      <th>actor_1_name</th>\n",
       "      <th>actor_2_name</th>\n",
       "      <th>actor_3_name</th>\n",
       "      <th>duration</th>\n",
       "      <th>genres</th>\n",
       "      <th>language</th>\n",
       "      <th>country</th>\n",
       "      <th>budget</th>\n",
       "      <th>gross</th>\n",
       "      <th>revenue</th>\n",
       "      <th>year</th>\n",
       "      <th>imdb_score</th>\n",
       "    </tr>\n",
       "  </thead>\n",
       "  <tbody>\n",
       "    <tr>\n",
       "      <th>0</th>\n",
       "      <td>avatar</td>\n",
       "      <td>James Cameron</td>\n",
       "      <td>Dune Entertainment Lightstorm Entertainment 20...</td>\n",
       "      <td>CCH Pounder</td>\n",
       "      <td>Joel David Moore</td>\n",
       "      <td>Wes Studi</td>\n",
       "      <td>178.0</td>\n",
       "      <td>Action Adventure Fantasy Sci-Fi</td>\n",
       "      <td>English</td>\n",
       "      <td>United States of America</td>\n",
       "      <td>237000000.0</td>\n",
       "      <td>760505847.0</td>\n",
       "      <td>2.923706e+09</td>\n",
       "      <td>2009.0</td>\n",
       "      <td>7.9</td>\n",
       "    </tr>\n",
       "    <tr>\n",
       "      <th>1</th>\n",
       "      <td>pirates of the caribbean: at world's end</td>\n",
       "      <td>Gore Verbinski</td>\n",
       "      <td>Jerry Bruckheimer Films Second Mate Production...</td>\n",
       "      <td>Johnny Depp</td>\n",
       "      <td>Orlando Bloom</td>\n",
       "      <td>Jack Davenport</td>\n",
       "      <td>169.0</td>\n",
       "      <td>Action Adventure Fantasy</td>\n",
       "      <td>English</td>\n",
       "      <td>United States of America</td>\n",
       "      <td>300000000.0</td>\n",
       "      <td>309404152.0</td>\n",
       "      <td>9.610000e+08</td>\n",
       "      <td>2007.0</td>\n",
       "      <td>7.1</td>\n",
       "    </tr>\n",
       "    <tr>\n",
       "      <th>2</th>\n",
       "      <td>spectre</td>\n",
       "      <td>Sam Mendes</td>\n",
       "      <td>Metro-Goldwyn-Mayer Columbia Pictures EON Prod...</td>\n",
       "      <td>Christoph Waltz</td>\n",
       "      <td>Rory Kinnear</td>\n",
       "      <td>Stephanie Sigman</td>\n",
       "      <td>148.0</td>\n",
       "      <td>Action Adventure Thriller</td>\n",
       "      <td>English</td>\n",
       "      <td>United Kingdom</td>\n",
       "      <td>245000000.0</td>\n",
       "      <td>200074175.0</td>\n",
       "      <td>8.806746e+08</td>\n",
       "      <td>2015.0</td>\n",
       "      <td>6.8</td>\n",
       "    </tr>\n",
       "    <tr>\n",
       "      <th>3</th>\n",
       "      <td>the dark knight rises</td>\n",
       "      <td>Christopher Nolan</td>\n",
       "      <td>Syncopy Legendary Pictures DC Entertainment Wa...</td>\n",
       "      <td>Tom Hardy</td>\n",
       "      <td>Christian Bale</td>\n",
       "      <td>Joseph Gordon-Levitt</td>\n",
       "      <td>164.0</td>\n",
       "      <td>Action Thriller</td>\n",
       "      <td>English</td>\n",
       "      <td>United States of America</td>\n",
       "      <td>250000000.0</td>\n",
       "      <td>448130642.0</td>\n",
       "      <td>1.081041e+09</td>\n",
       "      <td>2012.0</td>\n",
       "      <td>8.5</td>\n",
       "    </tr>\n",
       "    <tr>\n",
       "      <th>4</th>\n",
       "      <td>star wars: episode vii - the force awakens    ...</td>\n",
       "      <td>Doug Walker</td>\n",
       "      <td>Lucasfilm Ltd. Bad Robot</td>\n",
       "      <td>Doug Walker</td>\n",
       "      <td>Rob Walker</td>\n",
       "      <td>Carrie Fisher</td>\n",
       "      <td>136.0</td>\n",
       "      <td>Documentary</td>\n",
       "      <td>English</td>\n",
       "      <td>United States of America</td>\n",
       "      <td>245000000.0</td>\n",
       "      <td>NaN</td>\n",
       "      <td>2.068224e+09</td>\n",
       "      <td>2015.0</td>\n",
       "      <td>7.1</td>\n",
       "    </tr>\n",
       "    <tr>\n",
       "      <th>...</th>\n",
       "      <td>...</td>\n",
       "      <td>...</td>\n",
       "      <td>...</td>\n",
       "      <td>...</td>\n",
       "      <td>...</td>\n",
       "      <td>...</td>\n",
       "      <td>...</td>\n",
       "      <td>...</td>\n",
       "      <td>...</td>\n",
       "      <td>...</td>\n",
       "      <td>...</td>\n",
       "      <td>...</td>\n",
       "      <td>...</td>\n",
       "      <td>...</td>\n",
       "      <td>...</td>\n",
       "    </tr>\n",
       "    <tr>\n",
       "      <th>50576</th>\n",
       "      <td>subdue</td>\n",
       "      <td>Hamid Nematollah</td>\n",
       "      <td>NaN</td>\n",
       "      <td>Leila Hatami</td>\n",
       "      <td>Kourosh Tahami</td>\n",
       "      <td>Elham Korda</td>\n",
       "      <td>90.0</td>\n",
       "      <td>Drama Family</td>\n",
       "      <td>فارسی</td>\n",
       "      <td>Iran</td>\n",
       "      <td>0.0</td>\n",
       "      <td>NaN</td>\n",
       "      <td>0.000000e+00</td>\n",
       "      <td>1971.0</td>\n",
       "      <td>NaN</td>\n",
       "    </tr>\n",
       "    <tr>\n",
       "      <th>50577</th>\n",
       "      <td>century of birthing</td>\n",
       "      <td>Lav Diaz</td>\n",
       "      <td>Sine Olivia</td>\n",
       "      <td>Angel Aquino</td>\n",
       "      <td>Perry Dizon</td>\n",
       "      <td>Hazel Orencio</td>\n",
       "      <td>360.0</td>\n",
       "      <td>Drama</td>\n",
       "      <td>NaN</td>\n",
       "      <td>Philippines</td>\n",
       "      <td>0.0</td>\n",
       "      <td>NaN</td>\n",
       "      <td>0.000000e+00</td>\n",
       "      <td>2011.0</td>\n",
       "      <td>NaN</td>\n",
       "    </tr>\n",
       "    <tr>\n",
       "      <th>50578</th>\n",
       "      <td>betrayal</td>\n",
       "      <td>Mark L. Lester</td>\n",
       "      <td>American World Pictures</td>\n",
       "      <td>Erika Eleniak</td>\n",
       "      <td>Adam Baldwin</td>\n",
       "      <td>Julie du Page</td>\n",
       "      <td>90.0</td>\n",
       "      <td>Action Drama Thriller</td>\n",
       "      <td>English</td>\n",
       "      <td>United States of America</td>\n",
       "      <td>0.0</td>\n",
       "      <td>NaN</td>\n",
       "      <td>0.000000e+00</td>\n",
       "      <td>2003.0</td>\n",
       "      <td>NaN</td>\n",
       "    </tr>\n",
       "    <tr>\n",
       "      <th>50579</th>\n",
       "      <td>satan triumphant</td>\n",
       "      <td>Yakov Protazanov</td>\n",
       "      <td>Yermoliev</td>\n",
       "      <td>Iwan Mosschuchin</td>\n",
       "      <td>Nathalie Lissenko</td>\n",
       "      <td>Pavel Pavlov</td>\n",
       "      <td>87.0</td>\n",
       "      <td>Drama</td>\n",
       "      <td>No Language</td>\n",
       "      <td>Russia</td>\n",
       "      <td>0.0</td>\n",
       "      <td>NaN</td>\n",
       "      <td>0.000000e+00</td>\n",
       "      <td>1917.0</td>\n",
       "      <td>NaN</td>\n",
       "    </tr>\n",
       "    <tr>\n",
       "      <th>50580</th>\n",
       "      <td>queerama</td>\n",
       "      <td>Daisy Asquith</td>\n",
       "      <td>ie ie productions</td>\n",
       "      <td>NaN</td>\n",
       "      <td>NaN</td>\n",
       "      <td>NaN</td>\n",
       "      <td>75.0</td>\n",
       "      <td>Music Documentary</td>\n",
       "      <td>English</td>\n",
       "      <td>United Kingdom</td>\n",
       "      <td>0.0</td>\n",
       "      <td>NaN</td>\n",
       "      <td>0.000000e+00</td>\n",
       "      <td>2017.0</td>\n",
       "      <td>NaN</td>\n",
       "    </tr>\n",
       "  </tbody>\n",
       "</table>\n",
       "<p>50581 rows × 15 columns</p>\n",
       "</div>"
      ],
      "text/plain": [
       "                                                   title      director_name  \\\n",
       "0                                                 avatar      James Cameron   \n",
       "1               pirates of the caribbean: at world's end     Gore Verbinski   \n",
       "2                                                spectre         Sam Mendes   \n",
       "3                                  the dark knight rises  Christopher Nolan   \n",
       "4      star wars: episode vii - the force awakens    ...        Doug Walker   \n",
       "...                                                  ...                ...   \n",
       "50576                                             subdue   Hamid Nematollah   \n",
       "50577                                century of birthing           Lav Diaz   \n",
       "50578                                           betrayal     Mark L. Lester   \n",
       "50579                                   satan triumphant   Yakov Protazanov   \n",
       "50580                                           queerama      Daisy Asquith   \n",
       "\n",
       "                                    production_companies      actor_1_name  \\\n",
       "0      Dune Entertainment Lightstorm Entertainment 20...       CCH Pounder   \n",
       "1      Jerry Bruckheimer Films Second Mate Production...       Johnny Depp   \n",
       "2      Metro-Goldwyn-Mayer Columbia Pictures EON Prod...   Christoph Waltz   \n",
       "3      Syncopy Legendary Pictures DC Entertainment Wa...         Tom Hardy   \n",
       "4                               Lucasfilm Ltd. Bad Robot       Doug Walker   \n",
       "...                                                  ...               ...   \n",
       "50576                                                NaN      Leila Hatami   \n",
       "50577                                        Sine Olivia      Angel Aquino   \n",
       "50578                            American World Pictures     Erika Eleniak   \n",
       "50579                                          Yermoliev  Iwan Mosschuchin   \n",
       "50580                                  ie ie productions               NaN   \n",
       "\n",
       "            actor_2_name          actor_3_name  duration  \\\n",
       "0       Joel David Moore             Wes Studi     178.0   \n",
       "1          Orlando Bloom        Jack Davenport     169.0   \n",
       "2           Rory Kinnear      Stephanie Sigman     148.0   \n",
       "3         Christian Bale  Joseph Gordon-Levitt     164.0   \n",
       "4             Rob Walker         Carrie Fisher     136.0   \n",
       "...                  ...                   ...       ...   \n",
       "50576     Kourosh Tahami           Elham Korda      90.0   \n",
       "50577        Perry Dizon         Hazel Orencio     360.0   \n",
       "50578       Adam Baldwin         Julie du Page      90.0   \n",
       "50579  Nathalie Lissenko          Pavel Pavlov      87.0   \n",
       "50580                NaN                   NaN      75.0   \n",
       "\n",
       "                                genres     language                   country  \\\n",
       "0      Action Adventure Fantasy Sci-Fi      English  United States of America   \n",
       "1             Action Adventure Fantasy      English  United States of America   \n",
       "2            Action Adventure Thriller      English            United Kingdom   \n",
       "3                      Action Thriller      English  United States of America   \n",
       "4                          Documentary      English  United States of America   \n",
       "...                                ...          ...                       ...   \n",
       "50576                     Drama Family        فارسی                      Iran   \n",
       "50577                            Drama          NaN               Philippines   \n",
       "50578            Action Drama Thriller      English  United States of America   \n",
       "50579                            Drama  No Language                    Russia   \n",
       "50580                Music Documentary      English            United Kingdom   \n",
       "\n",
       "            budget        gross       revenue    year  imdb_score  \n",
       "0      237000000.0  760505847.0  2.923706e+09  2009.0         7.9  \n",
       "1      300000000.0  309404152.0  9.610000e+08  2007.0         7.1  \n",
       "2      245000000.0  200074175.0  8.806746e+08  2015.0         6.8  \n",
       "3      250000000.0  448130642.0  1.081041e+09  2012.0         8.5  \n",
       "4      245000000.0          NaN  2.068224e+09  2015.0         7.1  \n",
       "...            ...          ...           ...     ...         ...  \n",
       "50576          0.0          NaN  0.000000e+00  1971.0         NaN  \n",
       "50577          0.0          NaN  0.000000e+00  2011.0         NaN  \n",
       "50578          0.0          NaN  0.000000e+00  2003.0         NaN  \n",
       "50579          0.0          NaN  0.000000e+00  1917.0         NaN  \n",
       "50580          0.0          NaN  0.000000e+00  2017.0         NaN  \n",
       "\n",
       "[50581 rows x 15 columns]"
      ]
     },
     "execution_count": 3,
     "metadata": {},
     "output_type": "execute_result"
    }
   ],
   "source": [
    "df"
   ]
  },
  {
   "cell_type": "code",
   "execution_count": 7,
   "metadata": {},
   "outputs": [
    {
     "name": "stdout",
     "output_type": "stream",
     "text": [
      "Requirement already satisfied: tmdbv3api in /Users/user/anaconda3/envs/ml/lib/python3.11/site-packages (1.9.0)\n",
      "Requirement already satisfied: requests in /Users/user/anaconda3/envs/ml/lib/python3.11/site-packages (from tmdbv3api) (2.31.0)\n",
      "Requirement already satisfied: charset-normalizer<4,>=2 in /Users/user/anaconda3/envs/ml/lib/python3.11/site-packages (from requests->tmdbv3api) (2.0.4)\n",
      "Requirement already satisfied: idna<4,>=2.5 in /Users/user/anaconda3/envs/ml/lib/python3.11/site-packages (from requests->tmdbv3api) (3.4)\n",
      "Requirement already satisfied: urllib3<3,>=1.21.1 in /Users/user/anaconda3/envs/ml/lib/python3.11/site-packages (from requests->tmdbv3api) (1.26.16)\n",
      "Requirement already satisfied: certifi>=2017.4.17 in /Users/user/anaconda3/envs/ml/lib/python3.11/site-packages (from requests->tmdbv3api) (2023.11.17)\n"
     ]
    }
   ],
   "source": [
    "!pip install tmdbv3api"
   ]
  },
  {
   "cell_type": "code",
   "execution_count": 25,
   "metadata": {},
   "outputs": [],
   "source": [
    "from tmdbv3api import TMDb\n",
    "import json\n",
    "import requests\n",
    "tmdb = TMDb()\n",
    "tmdb.api_key = '07cc151730daa91e60bd8a7ad5ca9986'"
   ]
  },
  {
   "cell_type": "code",
   "execution_count": 26,
   "metadata": {},
   "outputs": [],
   "source": [
    "from tmdbv3api import Movie\n",
    "tmdb_movie = Movie()\n",
    "class Get_data:\n",
    "    \n",
    "    def genre(x):\n",
    "        genres = []\n",
    "        result = tmdb_movie.search(x)\n",
    "        if not result.results:\n",
    "            return np.NaN\n",
    "        movie_id = result[0].id\n",
    "        response = requests.get(f'https://api.themoviedb.org/3/movie/{movie_id}?api_key={tmdb.api_key}')\n",
    "        data_json = response.json()\n",
    "        if data_json['genres']:\n",
    "            genre_str = \" \"\n",
    "            for i in range(0,len(data_json['genres'])):\n",
    "                genres.append(data_json['genres'][i]['name'])\n",
    "            return genre_str.join(genres)\n",
    "        else:\n",
    "            return np.NaN\n",
    "\n",
    "    def production_companies(x):\n",
    "        production_companies = []\n",
    "        result = tmdb_movie.search(x)\n",
    "        if not result.results:\n",
    "            return np.NaN\n",
    "        movie_id = result[0].id\n",
    "        response = requests.get(f'https://api.themoviedb.org/3/movie/{movie_id}?api_key={tmdb.api_key}')\n",
    "        data_json = response.json()\n",
    "        if data_json['production_companies']:\n",
    "            genre_str = \" \" \n",
    "            for i in range(0,len(data_json['production_companies'])):\n",
    "                production_companies.append(data_json['production_companies'][i]['name'])\n",
    "            return genre_str.join(production_companies)\n",
    "        else:\n",
    "            return np.NaN\n",
    "\n",
    "    def country(x):\n",
    "        production_countries = []\n",
    "        result = tmdb_movie.search(x)\n",
    "        if not result.results:\n",
    "            return np.NaN\n",
    "        movie_id = result[0].id\n",
    "        response = requests.get(f'https://api.themoviedb.org/3/movie/{movie_id}?api_key={tmdb.api_key}')\n",
    "        data_json = response.json()\n",
    "        if data_json['production_countries']:\n",
    "            genre_str = \" \" \n",
    "            for i in range(0,len(data_json['production_countries'])):\n",
    "                production_countries.append(data_json['production_countries'][i]['name'])\n",
    "            return genre_str.join(production_countries)\n",
    "        else:\n",
    "            return np.NaN\n",
    "    \n",
    "    def language(x):\n",
    "        spoken_languages = []\n",
    "        result = tmdb_movie.search(x)\n",
    "        if not result.results:\n",
    "            return np.NaN\n",
    "        movie_id = result[0].id\n",
    "        response = requests.get(f'https://api.themoviedb.org/3/movie/{movie_id}?api_key={tmdb.api_key}')\n",
    "        data_json = response.json()\n",
    "        if data_json['spoken_languages']:\n",
    "            genre_str = \" \" \n",
    "            for i in range(0,len(data_json['spoken_languages'])):\n",
    "                spoken_languages.append(data_json['spoken_languages'][i]['name'])\n",
    "            return genre_str.join(spoken_languages)\n",
    "        else:\n",
    "            return np.NaN\n",
    "\n",
    "    def year(x):\n",
    "        result = tmdb_movie.search(x)\n",
    "        if not result.results:\n",
    "            return np.NaN\n",
    "        movie_id = result[0].id\n",
    "        response = requests.get(f'https://api.themoviedb.org/3/movie/{movie_id}?api_key={tmdb.api_key}')\n",
    "        data_json = response.json()\n",
    "        if data_json['release_date']:\n",
    "            return int(data_json['release_date'].split('-')[0])\n",
    "        else:\n",
    "            return np.NaN\n",
    "\n",
    "    def budget(x):\n",
    "        result = tmdb_movie.search(x)\n",
    "        if not result.results:\n",
    "            return np.NaN\n",
    "        movie_id = result[0].id\n",
    "        response = requests.get(f'https://api.themoviedb.org/3/movie/{movie_id}?api_key={tmdb.api_key}')\n",
    "        data_json = response.json()\n",
    "        if data_json['budget']:\n",
    "            return data_json['budget']\n",
    "        else:\n",
    "            return np.NaN\n",
    "\n",
    "    def revenue(x):\n",
    "        result = tmdb_movie.search(x)\n",
    "        if not result.results:\n",
    "            return np.NaN\n",
    "        movie_id = result[0].id\n",
    "        response = requests.get(f'https://api.themoviedb.org/3/movie/{movie_id}?api_key={tmdb.api_key}')\n",
    "        data_json = response.json()\n",
    "        if data_json['revenue']:\n",
    "            return data_json['revenue']\n",
    "        else:\n",
    "            return np.NaN\n",
    "\n",
    "    def duration(x):\n",
    "        result = tmdb_movie.search(x)\n",
    "        if not result.results:\n",
    "            return np.NaN\n",
    "        movie_id = result[0].id\n",
    "        response = requests.get(f'https://api.themoviedb.org/3/movie/{movie_id}?api_key={tmdb.api_key}')\n",
    "        data_json = response.json()\n",
    "        if data_json['runtime']:\n",
    "            return data_json['runtime']\n",
    "        else:\n",
    "            return np.NaN\n",
    "\n",
    "    def director_name(x):\n",
    "        result = tmdb_movie.search(x)\n",
    "        if not result.results:\n",
    "            return np.NaN\n",
    "        movie_id = result[0].id\n",
    "        response = requests.get(f'https://api.themoviedb.org/3/movie/{movie_id}/credits?api_key={tmdb.api_key}')\n",
    "        data_json = response.json()\n",
    "        if data_json['crew']:\n",
    "            if data_json['crew']:\n",
    "                for i in range(0, len(data_json['crew'])):\n",
    "                    if data_json['crew'][i]['job'] == 'Director':\n",
    "                        return data_json['crew'][i]['name']\n",
    "        else:\n",
    "            return np.NaN\n",
    "        \n",
    "    def actor_1_name(x):\n",
    "        result = tmdb_movie.search(x)\n",
    "        if not result.results:\n",
    "            return np.NaN\n",
    "        movie_id = result[0].id\n",
    "        response = requests.get(f'https://api.themoviedb.org/3/movie/{movie_id}/credits?api_key={tmdb.api_key}')\n",
    "        data_json = response.json()\n",
    "        if data_json['cast']:\n",
    "            return data_json['cast'][0]['name']\n",
    "        else:\n",
    "            return np.NaN\n",
    "\n",
    "    def actor_2_name(x):\n",
    "        result = tmdb_movie.search(x)\n",
    "        if not result.results:\n",
    "            return np.NaN\n",
    "        movie_id = result[0].id\n",
    "        response = requests.get(f'https://api.themoviedb.org/3/movie/{movie_id}/credits?api_key={tmdb.api_key}')\n",
    "        data_json = response.json()\n",
    "        if data_json['cast'] and len(data_json['cast']) > 2:\n",
    "            return data_json['cast'][1]['name']\n",
    "        else:\n",
    "            return np.NaN\n",
    "\n",
    "    def actor_3_name(x):\n",
    "        result = tmdb_movie.search(x)\n",
    "        if not result.results:\n",
    "            return np.NaN\n",
    "        movie_id = result[0].id\n",
    "        response = requests.get(f'https://api.themoviedb.org/3/movie/{movie_id}/credits?api_key={tmdb.api_key}')\n",
    "        data_json = response.json()\n",
    "        if data_json['cast'] and len(data_json['cast']) > 3:\n",
    "            return data_json['cast'][2]['name']\n",
    "        else:\n",
    "            return np.NaN"
   ]
  },
  {
   "cell_type": "code",
   "execution_count": 9,
   "metadata": {},
   "outputs": [
    {
     "data": {
      "text/plain": [
       "15"
      ]
     },
     "execution_count": 9,
     "metadata": {},
     "output_type": "execute_result"
    }
   ],
   "source": [
    "len(df_parts)"
   ]
  },
  {
   "cell_type": "code",
   "execution_count": null,
   "metadata": {},
   "outputs": [],
   "source": [
    "processed_parts = []\n",
    "\n",
    "for i in range(len(df_parts)):\n",
    "    df_parts[i]['genres'] = df_parts[i].apply(lambda row: Get_data.genre(str(row['title'])) if type(row['genres']) != str else row['genres'], axis=1)\n",
    "    print('----------------------------------------- Processed Genres')\n",
    "    df_parts[i]['production_companies'] = df_parts[i].apply(lambda row: Get_data.production_companies(str(row['title'])) if type(row['production_companies']) != str else row['production_companies'], axis=1)\n",
    "    print('----------------------------------------- Precessed Production Companies')\n",
    "    df_parts[i]['country'] = df_parts[i].apply(lambda row: Get_data.country(str(row['title'])) if type(row['country']) != str else row['country'], axis=1)\n",
    "    print('----------------------------------------- Processed Country')\n",
    "    df_parts[i]['language'] = df_parts[i].apply(lambda row: Get_data.language(str(row['title'])) if type(row['language']) != str else row['language'], axis=1)\n",
    "    print('----------------------------------------- Processed Language')\n",
    "    df_parts[i]['year'] = df_parts[i].apply(lambda row: Get_data.year(str(row['title'])) if type(row['year']) != str else row['year'], axis=1)\n",
    "    print('----------------------------------------- Processed Year')\n",
    "    df_parts[i]['budget'] = df_parts[i].apply(lambda row: Get_data.budget(str(row['title'])) if type(row['budget']) != str else row['budget'], axis=1)\n",
    "    print('----------------------------------------- Processed Budget')\n",
    "    df_parts[i]['revenue'] = df_parts[i].apply(lambda row: Get_data.revenue(str(row['title'])) if type(row['revenue']) != str else row['revenue'], axis=1)\n",
    "    print('----------------------------------------- Processed Revenue')\n",
    "    df_parts[i]['duration'] = df_parts[i].apply(lambda row: Get_data.duration(str(row['title'])) if type(row['duration']) != str else row['duration'], axis=1)\n",
    "    print('----------------------------------------- Processed Duration')\n",
    "    df_parts[i]['director_name'] = df_parts[i].apply(lambda row: Get_data.director_name(str(row['title'])) if type(row['director_name']) != str else row['director_name'], axis=1)\n",
    "    print('----------------------------------------- Processed Director Name')\n",
    "    df_parts[i]['actor_1_name'] = df_parts[i].apply(lambda row: Get_data.actor_1_name(str(row['title'])) if type(row['actor_1_name']) != str else row['actor_1_name'], axis=1)\n",
    "    print('----------------------------------------- Processed Actor 1 Name')\n",
    "    df_parts[i]['actor_2_name'] = df_parts[i].apply(lambda row: Get_data.actor_2_name(str(row['title'])) if type(row['actor_2_name']) != str else row['actor_2_name'], axis=1)\n",
    "    print('----------------------------------------- Processed Actor 2 Name')\n",
    "    df_parts[i]['actor_3_name'] = df_parts[i].apply(lambda row: Get_data.actor_3_name(str(row['title'])) if type(row['actor_3_name']) != str else row['actor_3_name'], axis=1)\n",
    "    print('----------------------------------------- Processed Actor 3 Name')\n",
    "    \n",
    "    processed_parts.append(df_parts[i])\n",
    "    print('----------------------------------------- Data Aquisition Completed For Part: ' + str(i) + ' -----------------------------------------')\n",
    "\n",
    "df = pd.concat(processed_parts)"
   ]
  },
  {
   "cell_type": "code",
   "execution_count": 10,
   "metadata": {},
   "outputs": [
    {
     "data": {
      "text/plain": [
       "Unnamed: 0.1                0\n",
       "Unnamed: 0                  0\n",
       "title                       3\n",
       "director_name             162\n",
       "actor_1_name             1091\n",
       "actor_2_name             2293\n",
       "actor_3_name             2841\n",
       "duration                   72\n",
       "genres                    476\n",
       "language                 1227\n",
       "country                  2050\n",
       "budget                    274\n",
       "gross                   46422\n",
       "year                       30\n",
       "imdb_score              45538\n",
       "production_companies    16942\n",
       "revenue                   982\n",
       "dtype: int64"
      ]
     },
     "execution_count": 10,
     "metadata": {},
     "output_type": "execute_result"
    }
   ],
   "source": [
    "df.isna().sum()"
   ]
  },
  {
   "cell_type": "code",
   "execution_count": null,
   "metadata": {},
   "outputs": [],
   "source": [
    "df['director_name'] = df['director_name'].replace(np.nan, Get_data.director_name())"
   ]
  },
  {
   "cell_type": "code",
   "execution_count": 22,
   "metadata": {},
   "outputs": [],
   "source": [
    "df.to_csv('data/data_filled.csv', index=False)"
   ]
  },
  {
   "cell_type": "code",
   "execution_count": null,
   "metadata": {},
   "outputs": [],
   "source": [
    "print('Please shut down the computer')"
   ]
  },
  {
   "cell_type": "code",
   "execution_count": 19,
   "metadata": {},
   "outputs": [],
   "source": [
    "# Genres\n",
    "# Director Name\n",
    "# Language\n",
    "# Actor 1 Name\n",
    "# Actor 2 Name\n",
    "# Actor 3 Name\n",
    "# Country\n",
    "# Year\n",
    "# Duration\n",
    "# Budget\n",
    "# Revenue\n",
    "# Production Companies"
   ]
  },
  {
   "cell_type": "code",
   "execution_count": 11,
   "metadata": {},
   "outputs": [
    {
     "name": "stdout",
     "output_type": "stream",
     "text": [
      "----------------------------------------- Precessed Production Companies\n",
      "----------------------------------------- Data Aquisition Completed For Part: 14 -----------------------------------------\n",
      "----------------------------------------- Saved Part: 14 -----------------------------------------\n"
     ]
    }
   ],
   "source": [
    "# processed_parts = []\n",
    "\n",
    "for i in range(14,len(df_parts)):\n",
    "    df_parts[i]['production_companies'] = df_parts[i].apply(lambda row: Get_data.production_companies(str(row['title'])) if pd.isna(row['production_companies']) else row['production_companies'], axis=1)\n",
    "    print('----------------------------------------- Precessed Production Companies')\n",
    "    # df_parts[i]['country'] = df_parts[i].apply(lambda row: Get_data.country(str(row['title'])) if type(row['country']) != str else row['country'], axis=1)\n",
    "    # print('----------------------------------------- Processed Country')\n",
    "\n",
    "    # processed_parts.append(df_parts[i])\n",
    "    print('----------------------------------------- Data Aquisition Completed For Part: ' + str(i) + ' -----------------------------------------')\n",
    "    df_parts[i].to_csv(f'data/data_filled_{i}.csv', index=False)\n",
    "    print('----------------------------------------- Saved Part: ' + str(i) + ' -----------------------------------------')\n",
    "\n",
    "# df = pd.concat(processed_parts)"
   ]
  },
  {
   "cell_type": "code",
   "execution_count": 12,
   "metadata": {},
   "outputs": [],
   "source": [
    "csv_files = ['data/data_filled_0.csv',\n",
    " 'data/data_filled_1.csv',\n",
    " 'data/data_filled_2.csv',\n",
    " 'data/data_filled_3.csv',\n",
    " 'data/data_filled_4.csv',\n",
    " 'data/data_filled_5.csv',\n",
    " 'data/data_filled_6.csv',\n",
    " 'data/data_filled_7.csv',\n",
    " 'data/data_filled_8.csv',\n",
    " 'data/data_filled_9.csv',\n",
    " 'data/data_filled_10.csv',\n",
    " 'data/data_filled_11.csv',\n",
    " 'data/data_filled_12.csv',\n",
    " 'data/data_filled_13.csv',\n",
    " 'data/data_filled_14.csv',]\n",
    "\n",
    "combined_df = pd.DataFrame()\n",
    "for csv_file in csv_files:\n",
    "    df = pd.read_csv(csv_file)\n",
    "    combined_df = pd.concat([combined_df, df])"
   ]
  },
  {
   "cell_type": "code",
   "execution_count": 13,
   "metadata": {},
   "outputs": [
    {
     "data": {
      "text/plain": [
       "Index(['Unnamed: 0.1', 'Unnamed: 0', 'title', 'director_name', 'actor_1_name',\n",
       "       'actor_2_name', 'actor_3_name', 'duration', 'genres', 'language',\n",
       "       'country', 'budget', 'gross', 'year', 'imdb_score',\n",
       "       'production_companies', 'revenue'],\n",
       "      dtype='object')"
      ]
     },
     "execution_count": 13,
     "metadata": {},
     "output_type": "execute_result"
    }
   ],
   "source": [
    "combined_df.columns"
   ]
  },
  {
   "cell_type": "code",
   "execution_count": 14,
   "metadata": {},
   "outputs": [],
   "source": [
    "combined_df = combined_df.loc[:, ['title', 'director_name', 'production_companies', 'actor_1_name',\n",
    "       'actor_2_name', 'actor_3_name', 'duration', 'genres', 'language',\n",
    "       'country', 'budget', 'gross', 'revenue', 'year', 'imdb_score']]"
   ]
  },
  {
   "cell_type": "code",
   "execution_count": 16,
   "metadata": {},
   "outputs": [],
   "source": [
    "combined_df.to_csv('data/data_filled.csv', index=False)"
   ]
  },
  {
   "cell_type": "code",
   "execution_count": 15,
   "metadata": {},
   "outputs": [
    {
     "data": {
      "text/plain": [
       "title                       3\n",
       "director_name             162\n",
       "production_companies     4965\n",
       "actor_1_name             1091\n",
       "actor_2_name             2293\n",
       "actor_3_name             2841\n",
       "duration                   72\n",
       "genres                    476\n",
       "language                 1227\n",
       "country                  2050\n",
       "budget                    274\n",
       "gross                   46422\n",
       "revenue                   982\n",
       "year                       30\n",
       "imdb_score              45538\n",
       "dtype: int64"
      ]
     },
     "execution_count": 15,
     "metadata": {},
     "output_type": "execute_result"
    }
   ],
   "source": [
    "combined_df.isna().sum()"
   ]
  },
  {
   "cell_type": "code",
   "execution_count": null,
   "metadata": {},
   "outputs": [],
   "source": []
  },
  {
   "cell_type": "code",
   "execution_count": 10,
   "metadata": {},
   "outputs": [],
   "source": [
    "# df['title'].map(lambda x: Get_data.genre(str(x)) if type(x) != str else ...)\n",
    "# def get_genre(row):\n",
    "#     if type(row['genres']) != str:\n",
    "#         return Get_data.genre(str(row['title']))\n",
    "# df['genres'] = df.apply(get_genre, axis=1)\n",
    "df['genres'] = df.apply(lambda row: Get_data.genre(str(row['title'])) if pd.isna(row['genres']) else row['genres'], axis=1)"
   ]
  },
  {
   "cell_type": "code",
   "execution_count": 8,
   "metadata": {},
   "outputs": [
    {
     "data": {
      "text/plain": [
       "2442"
      ]
     },
     "execution_count": 8,
     "metadata": {},
     "output_type": "execute_result"
    }
   ],
   "source": [
    "df['genres'].isna().sum()"
   ]
  },
  {
   "cell_type": "code",
   "execution_count": null,
   "metadata": {},
   "outputs": [],
   "source": [
    "# df['production_companies'] = df['title'].map(lambda x: Get_data.production_companies(str(x)) if type(x) != str else ...)\n",
    "df['production_companies'] = df.apply(lambda row: Get_data.production_companies(str(row['title'])) if type(row['production_companies']) != str else row['production_companies'], axis=1)"
   ]
  },
  {
   "cell_type": "code",
   "execution_count": null,
   "metadata": {},
   "outputs": [
    {
     "data": {
      "text/plain": [
       "16942"
      ]
     },
     "execution_count": 12,
     "metadata": {},
     "output_type": "execute_result"
    }
   ],
   "source": [
    "df['production_companies'].isna().sum()"
   ]
  },
  {
   "cell_type": "code",
   "execution_count": null,
   "metadata": {},
   "outputs": [],
   "source": [
    "# df['country'] = df['title'].map(lambda x: Get_data.country(str(x)) if type(x) != str else ...)\n",
    "df['country'] = df.apply(lambda row: Get_data.country(str(row['title'])) if pd.isna(row['country']) else row['country'], axis=1)"
   ]
  },
  {
   "cell_type": "code",
   "execution_count": null,
   "metadata": {},
   "outputs": [
    {
     "data": {
      "text/plain": [
       "0"
      ]
     },
     "execution_count": 15,
     "metadata": {},
     "output_type": "execute_result"
    }
   ],
   "source": [
    "df['country'].isna().sum()"
   ]
  },
  {
   "cell_type": "code",
   "execution_count": 15,
   "metadata": {},
   "outputs": [],
   "source": [
    "# df['language'] = df['title'].map(lambda x: Get_data.language(str(x)) if type(x) != str else ...)\n",
    "df['language'] = df.apply(lambda row: Get_data.language(str(row['title'])) if pd.isna(row['language']) else row['language'], axis=1)"
   ]
  },
  {
   "cell_type": "code",
   "execution_count": null,
   "metadata": {},
   "outputs": [
    {
     "data": {
      "text/plain": [
       "0"
      ]
     },
     "execution_count": 17,
     "metadata": {},
     "output_type": "execute_result"
    }
   ],
   "source": [
    "df['language'].isna().sum()"
   ]
  },
  {
   "cell_type": "code",
   "execution_count": 7,
   "metadata": {},
   "outputs": [],
   "source": [
    "# df['year'] = df['title'].map(lambda x: Get_data.year(str(x)) if type(x) != str else ...)\n",
    "df['year'] = df.apply(lambda row: Get_data.year(str(row['title'])) if pd.isna(row['year']) else row['year'], axis=1)"
   ]
  },
  {
   "cell_type": "code",
   "execution_count": null,
   "metadata": {},
   "outputs": [
    {
     "data": {
      "text/plain": [
       "0"
      ]
     },
     "execution_count": 19,
     "metadata": {},
     "output_type": "execute_result"
    }
   ],
   "source": [
    "df['year'].isna().sum()"
   ]
  },
  {
   "cell_type": "code",
   "execution_count": 14,
   "metadata": {},
   "outputs": [],
   "source": [
    "# df['budget'] = df['title'].map(lambda x: Get_data.budget(str(x)) if type(x) != str else ...)\n",
    "df['budget'] = df.apply(lambda row: Get_data.budget(str(row['title'])) if pd.isna(row['budget']) else row['budget'], axis=1)"
   ]
  },
  {
   "cell_type": "code",
   "execution_count": null,
   "metadata": {},
   "outputs": [
    {
     "data": {
      "text/plain": [
       "0"
      ]
     },
     "execution_count": 21,
     "metadata": {},
     "output_type": "execute_result"
    }
   ],
   "source": [
    "df['budget'].isna().sum()"
   ]
  },
  {
   "cell_type": "code",
   "execution_count": 20,
   "metadata": {},
   "outputs": [],
   "source": [
    "# df['revenue'] = df['title'].map(lambda x: Get_data.revenue(str(x)) if type(x) != str else ...)\n",
    "df['revenue'] = df.apply(lambda row: Get_data.revenue(str(row['title'])) if pd.isna(row['revenue']) else row['revenue'], axis=1)"
   ]
  },
  {
   "cell_type": "code",
   "execution_count": 19,
   "metadata": {},
   "outputs": [
    {
     "data": {
      "text/plain": [
       "5046"
      ]
     },
     "execution_count": 19,
     "metadata": {},
     "output_type": "execute_result"
    }
   ],
   "source": [
    "df['revenue'].isna().sum()"
   ]
  },
  {
   "cell_type": "code",
   "execution_count": 10,
   "metadata": {},
   "outputs": [],
   "source": [
    "# df['duration'] = df['title'].map(lambda x: Get_data.duration(str(x)) if type(x) != str else ...)\n",
    "df['duration'] = df.apply(lambda row: Get_data.duration(str(row['title'])) if pd.isna(row['duration']) else row['duration'], axis=1)"
   ]
  },
  {
   "cell_type": "code",
   "execution_count": null,
   "metadata": {},
   "outputs": [
    {
     "data": {
      "text/plain": [
       "0"
      ]
     },
     "execution_count": 27,
     "metadata": {},
     "output_type": "execute_result"
    }
   ],
   "source": [
    "df['duration'].isna().sum()"
   ]
  },
  {
   "cell_type": "code",
   "execution_count": 9,
   "metadata": {},
   "outputs": [],
   "source": [
    "# df['director_name'] = df['title'].map(lambda x: Get_data.director_name(str(x)) if type(x) != str else ...)\n",
    "df['director_name'] = df.apply(lambda row: Get_data.director_name(str(row['title'])) if pd.isna(row['director_name']) else row['director_name'], axis=1)"
   ]
  },
  {
   "cell_type": "code",
   "execution_count": 22,
   "metadata": {},
   "outputs": [],
   "source": [
    "# df['actor_1_name'] = df['title'].map(lambda x: Get_data.actor_1_name(str(x)) if type(x) != str else ...)\n",
    "df['actor_1_name'] = df.apply(lambda row: Get_data.actor_1_name(str(row['title'])) if pd.isna(row['actor_1_name']) else row['actor_1_name'], axis=1)"
   ]
  },
  {
   "cell_type": "code",
   "execution_count": 26,
   "metadata": {},
   "outputs": [],
   "source": [
    "# df['actor_2_name'] = df['title'].map(lambda x: Get_data.actor_2_name(str(x)) if type(x) != str else ...)\n",
    "df['actor_2_name'] = df.apply(lambda row: Get_data.actor_2_name(str(row['title'])) if pd.isna(row['actor_2_name']) else row['actor_2_name'], axis=1)"
   ]
  },
  {
   "cell_type": "code",
   "execution_count": 7,
   "metadata": {},
   "outputs": [],
   "source": [
    "# df['actor_3_name'] = df['title'].map(lambda x: Get_data.actor_3_name(str(x)) if type(x) != str else ...)\n",
    "df['actor_3_name'] = df.apply(lambda row: Get_data.actor_3_name(str(row['title'])) if pd.isna(row['actor_3_name']) else row['actor_3_name'], axis=1)"
   ]
  },
  {
   "cell_type": "code",
   "execution_count": 7,
   "metadata": {},
   "outputs": [
    {
     "data": {
      "text/plain": [
       "title                       3\n",
       "director_name             162\n",
       "production_companies     4965\n",
       "actor_1_name             1091\n",
       "actor_2_name             2293\n",
       "actor_3_name             2841\n",
       "duration                   72\n",
       "genres                    476\n",
       "language                 1227\n",
       "country                  2050\n",
       "budget                    274\n",
       "gross                   46422\n",
       "revenue                   982\n",
       "year                       30\n",
       "imdb_score              45538\n",
       "dtype: int64"
      ]
     },
     "execution_count": 7,
     "metadata": {},
     "output_type": "execute_result"
    }
   ],
   "source": [
    "df.isna().sum()"
   ]
  },
  {
   "cell_type": "code",
   "execution_count": null,
   "metadata": {},
   "outputs": [
    {
     "data": {
      "text/html": [
       "<div>\n",
       "<style scoped>\n",
       "    .dataframe tbody tr th:only-of-type {\n",
       "        vertical-align: middle;\n",
       "    }\n",
       "\n",
       "    .dataframe tbody tr th {\n",
       "        vertical-align: top;\n",
       "    }\n",
       "\n",
       "    .dataframe thead th {\n",
       "        text-align: right;\n",
       "    }\n",
       "</style>\n",
       "<table border=\"1\" class=\"dataframe\">\n",
       "  <thead>\n",
       "    <tr style=\"text-align: right;\">\n",
       "      <th></th>\n",
       "      <th>title</th>\n",
       "      <th>director_name</th>\n",
       "      <th>actor_1_name</th>\n",
       "      <th>actor_2_name</th>\n",
       "      <th>actor_3_name</th>\n",
       "      <th>duration</th>\n",
       "      <th>genres</th>\n",
       "      <th>language</th>\n",
       "      <th>country</th>\n",
       "      <th>budget</th>\n",
       "      <th>gross</th>\n",
       "      <th>year</th>\n",
       "      <th>imdb_score</th>\n",
       "      <th>production_companies</th>\n",
       "      <th>revenue</th>\n",
       "    </tr>\n",
       "  </thead>\n",
       "  <tbody>\n",
       "    <tr>\n",
       "      <th>24844</th>\n",
       "      <td>NaN</td>\n",
       "      <td>Sahim Omar Kalifa</td>\n",
       "      <td>Kehreman macid</td>\n",
       "      <td>Leila laraaj</td>\n",
       "      <td>Rikkert Van Dijck</td>\n",
       "      <td>30</td>\n",
       "      <td>Drama Crime</td>\n",
       "      <td>Nederlands</td>\n",
       "      <td>Belgium Iraq</td>\n",
       "      <td>10000</td>\n",
       "      <td>NaN</td>\n",
       "      <td>2008</td>\n",
       "      <td>NaN</td>\n",
       "      <td>Hogeschool Sint-Lukas Brussel</td>\n",
       "      <td>None</td>\n",
       "    </tr>\n",
       "    <tr>\n",
       "      <th>34627</th>\n",
       "      <td>NaN</td>\n",
       "      <td>Sahim Omar Kalifa</td>\n",
       "      <td>Kehreman macid</td>\n",
       "      <td>Leila laraaj</td>\n",
       "      <td>Rikkert Van Dijck</td>\n",
       "      <td>30</td>\n",
       "      <td>Drama Crime</td>\n",
       "      <td>Nederlands</td>\n",
       "      <td>Belgium Iraq</td>\n",
       "      <td>10000</td>\n",
       "      <td>NaN</td>\n",
       "      <td>2008</td>\n",
       "      <td>NaN</td>\n",
       "      <td>Hogeschool Sint-Lukas Brussel</td>\n",
       "      <td>None</td>\n",
       "    </tr>\n",
       "    <tr>\n",
       "      <th>40710</th>\n",
       "      <td>NaN</td>\n",
       "      <td>Sahim Omar Kalifa</td>\n",
       "      <td>Kehreman macid</td>\n",
       "      <td>Leila laraaj</td>\n",
       "      <td>Rikkert Van Dijck</td>\n",
       "      <td>30</td>\n",
       "      <td>Drama Crime</td>\n",
       "      <td>Nederlands</td>\n",
       "      <td>Belgium Iraq</td>\n",
       "      <td>10000</td>\n",
       "      <td>NaN</td>\n",
       "      <td>2008</td>\n",
       "      <td>NaN</td>\n",
       "      <td>Hogeschool Sint-Lukas Brussel</td>\n",
       "      <td>None</td>\n",
       "    </tr>\n",
       "  </tbody>\n",
       "</table>\n",
       "</div>"
      ],
      "text/plain": [
       "      title      director_name    actor_1_name  actor_2_name  \\\n",
       "24844   NaN  Sahim Omar Kalifa  Kehreman macid  Leila laraaj   \n",
       "34627   NaN  Sahim Omar Kalifa  Kehreman macid  Leila laraaj   \n",
       "40710   NaN  Sahim Omar Kalifa  Kehreman macid  Leila laraaj   \n",
       "\n",
       "            actor_3_name duration       genres     language       country  \\\n",
       "24844  Rikkert Van Dijck       30  Drama Crime  Nederlands   Belgium Iraq   \n",
       "34627  Rikkert Van Dijck       30  Drama Crime  Nederlands   Belgium Iraq   \n",
       "40710  Rikkert Van Dijck       30  Drama Crime  Nederlands   Belgium Iraq   \n",
       "\n",
       "      budget  gross  year  imdb_score           production_companies revenue  \n",
       "24844  10000    NaN  2008         NaN  Hogeschool Sint-Lukas Brussel    None  \n",
       "34627  10000    NaN  2008         NaN  Hogeschool Sint-Lukas Brussel    None  \n",
       "40710  10000    NaN  2008         NaN  Hogeschool Sint-Lukas Brussel    None  "
      ]
     },
     "execution_count": 35,
     "metadata": {},
     "output_type": "execute_result"
    }
   ],
   "source": [
    "df[df['title'].isna()]"
   ]
  },
  {
   "cell_type": "code",
   "execution_count": null,
   "metadata": {},
   "outputs": [],
   "source": [
    "df.dropna(subset=['title'], inplace=True)"
   ]
  },
  {
   "cell_type": "code",
   "execution_count": null,
   "metadata": {},
   "outputs": [],
   "source": [
    "df.drop(columns=['gross'], inplace=True)"
   ]
  },
  {
   "cell_type": "code",
   "execution_count": null,
   "metadata": {},
   "outputs": [],
   "source": [
    "df.to_csv('data/data.csv', index=False)"
   ]
  },
  {
   "cell_type": "code",
   "execution_count": 3,
   "metadata": {},
   "outputs": [
    {
     "data": {
      "text/plain": [
       "title                       3\n",
       "director_name             991\n",
       "actor_1_name             2427\n",
       "actor_2_name             3765\n",
       "actor_3_name             4687\n",
       "duration                  275\n",
       "genres                   2442\n",
       "language                 3975\n",
       "country                  6298\n",
       "budget                    492\n",
       "gross                   46422\n",
       "year                      195\n",
       "imdb_score              45538\n",
       "production_companies    16942\n",
       "revenue                  5046\n",
       "dtype: int64"
      ]
     },
     "execution_count": 3,
     "metadata": {},
     "output_type": "execute_result"
    }
   ],
   "source": [
    "df_old = pd.read_csv('data/data.csv')\n",
    "df_old.isna().sum()"
   ]
  },
  {
   "cell_type": "code",
   "execution_count": 4,
   "metadata": {},
   "outputs": [
    {
     "data": {
      "text/plain": [
       "Index(['title', 'director_name', 'production_companies', 'actor_1_name',\n",
       "       'actor_2_name', 'actor_3_name', 'duration', 'genres', 'language',\n",
       "       'country', 'budget', 'gross', 'revenue', 'year', 'imdb_score'],\n",
       "      dtype='object')"
      ]
     },
     "execution_count": 4,
     "metadata": {},
     "output_type": "execute_result"
    }
   ],
   "source": [
    "df.columns"
   ]
  },
  {
   "cell_type": "code",
   "execution_count": 5,
   "metadata": {},
   "outputs": [
    {
     "data": {
      "text/plain": [
       "Index(['title', 'director_name', 'actor_1_name', 'actor_2_name',\n",
       "       'actor_3_name', 'duration', 'genres', 'language', 'country', 'budget',\n",
       "       'gross', 'year', 'imdb_score', 'production_companies', 'revenue'],\n",
       "      dtype='object')"
      ]
     },
     "execution_count": 5,
     "metadata": {},
     "output_type": "execute_result"
    }
   ],
   "source": [
    "df_old.columns"
   ]
  },
  {
   "cell_type": "code",
   "execution_count": 18,
   "metadata": {},
   "outputs": [],
   "source": [
    "df_mod = df.loc[:, ['title', 'production_companies', 'actor_1_name',\n",
    "       'actor_2_name', 'actor_3_name', 'duration', 'genres', 'language',\n",
    "       'country', 'budget', 'revenue', 'year']].join(df_old['director_name'])"
   ]
  },
  {
   "cell_type": "code",
   "execution_count": 21,
   "metadata": {},
   "outputs": [],
   "source": [
    "df_mod = df_mod.loc[:, ['title', 'director_name', 'production_companies', 'actor_1_name', 'actor_2_name',\n",
    "       'actor_3_name', 'duration', 'genres', 'language', 'country', 'budget',\n",
    "       'revenue', 'year']]"
   ]
  },
  {
   "cell_type": "code",
   "execution_count": 22,
   "metadata": {},
   "outputs": [
    {
     "data": {
      "text/plain": [
       "Index(['title', 'director_name', 'production_companies', 'actor_1_name',\n",
       "       'actor_2_name', 'actor_3_name', 'duration', 'genres', 'language',\n",
       "       'country', 'budget', 'revenue', 'year'],\n",
       "      dtype='object')"
      ]
     },
     "execution_count": 22,
     "metadata": {},
     "output_type": "execute_result"
    }
   ],
   "source": [
    "df_mod.columns"
   ]
  },
  {
   "cell_type": "code",
   "execution_count": 23,
   "metadata": {},
   "outputs": [
    {
     "data": {
      "text/plain": [
       "title                      3\n",
       "director_name            991\n",
       "production_companies    4965\n",
       "actor_1_name            1091\n",
       "actor_2_name            2293\n",
       "actor_3_name            2841\n",
       "duration                  72\n",
       "genres                   476\n",
       "language                1227\n",
       "country                 2050\n",
       "budget                   274\n",
       "revenue                  982\n",
       "year                      30\n",
       "dtype: int64"
      ]
     },
     "execution_count": 23,
     "metadata": {},
     "output_type": "execute_result"
    }
   ],
   "source": [
    "df_mod.isna().sum()"
   ]
  },
  {
   "cell_type": "code",
   "execution_count": 24,
   "metadata": {},
   "outputs": [
    {
     "data": {
      "text/html": [
       "<div>\n",
       "<style scoped>\n",
       "    .dataframe tbody tr th:only-of-type {\n",
       "        vertical-align: middle;\n",
       "    }\n",
       "\n",
       "    .dataframe tbody tr th {\n",
       "        vertical-align: top;\n",
       "    }\n",
       "\n",
       "    .dataframe thead th {\n",
       "        text-align: right;\n",
       "    }\n",
       "</style>\n",
       "<table border=\"1\" class=\"dataframe\">\n",
       "  <thead>\n",
       "    <tr style=\"text-align: right;\">\n",
       "      <th></th>\n",
       "      <th>title</th>\n",
       "      <th>director_name</th>\n",
       "      <th>production_companies</th>\n",
       "      <th>actor_1_name</th>\n",
       "      <th>actor_2_name</th>\n",
       "      <th>actor_3_name</th>\n",
       "      <th>duration</th>\n",
       "      <th>genres</th>\n",
       "      <th>language</th>\n",
       "      <th>country</th>\n",
       "      <th>budget</th>\n",
       "      <th>revenue</th>\n",
       "      <th>year</th>\n",
       "    </tr>\n",
       "  </thead>\n",
       "  <tbody>\n",
       "    <tr>\n",
       "      <th>0</th>\n",
       "      <td>avatar</td>\n",
       "      <td>James Cameron</td>\n",
       "      <td>Dune Entertainment Lightstorm Entertainment 20...</td>\n",
       "      <td>CCH Pounder</td>\n",
       "      <td>Joel David Moore</td>\n",
       "      <td>Wes Studi</td>\n",
       "      <td>178.0</td>\n",
       "      <td>Action Adventure Fantasy Sci-Fi</td>\n",
       "      <td>English</td>\n",
       "      <td>United States of America</td>\n",
       "      <td>237000000.0</td>\n",
       "      <td>2.923706e+09</td>\n",
       "      <td>2009.0</td>\n",
       "    </tr>\n",
       "    <tr>\n",
       "      <th>1</th>\n",
       "      <td>pirates of the caribbean: at world's end</td>\n",
       "      <td>Gore Verbinski</td>\n",
       "      <td>Jerry Bruckheimer Films Second Mate Production...</td>\n",
       "      <td>Johnny Depp</td>\n",
       "      <td>Orlando Bloom</td>\n",
       "      <td>Jack Davenport</td>\n",
       "      <td>169.0</td>\n",
       "      <td>Action Adventure Fantasy</td>\n",
       "      <td>English</td>\n",
       "      <td>United States of America</td>\n",
       "      <td>300000000.0</td>\n",
       "      <td>9.610000e+08</td>\n",
       "      <td>2007.0</td>\n",
       "    </tr>\n",
       "    <tr>\n",
       "      <th>2</th>\n",
       "      <td>spectre</td>\n",
       "      <td>Sam Mendes</td>\n",
       "      <td>Metro-Goldwyn-Mayer Columbia Pictures EON Prod...</td>\n",
       "      <td>Christoph Waltz</td>\n",
       "      <td>Rory Kinnear</td>\n",
       "      <td>Stephanie Sigman</td>\n",
       "      <td>148.0</td>\n",
       "      <td>Action Adventure Thriller</td>\n",
       "      <td>English</td>\n",
       "      <td>United Kingdom</td>\n",
       "      <td>245000000.0</td>\n",
       "      <td>8.806746e+08</td>\n",
       "      <td>2015.0</td>\n",
       "    </tr>\n",
       "    <tr>\n",
       "      <th>3</th>\n",
       "      <td>the dark knight rises</td>\n",
       "      <td>Christopher Nolan</td>\n",
       "      <td>Syncopy Legendary Pictures DC Entertainment Wa...</td>\n",
       "      <td>Tom Hardy</td>\n",
       "      <td>Christian Bale</td>\n",
       "      <td>Joseph Gordon-Levitt</td>\n",
       "      <td>164.0</td>\n",
       "      <td>Action Thriller</td>\n",
       "      <td>English</td>\n",
       "      <td>United States of America</td>\n",
       "      <td>250000000.0</td>\n",
       "      <td>1.081041e+09</td>\n",
       "      <td>2012.0</td>\n",
       "    </tr>\n",
       "    <tr>\n",
       "      <th>4</th>\n",
       "      <td>star wars: episode vii - the force awakens    ...</td>\n",
       "      <td>Doug Walker</td>\n",
       "      <td>Lucasfilm Ltd. Bad Robot</td>\n",
       "      <td>Doug Walker</td>\n",
       "      <td>Rob Walker</td>\n",
       "      <td>Carrie Fisher</td>\n",
       "      <td>136.0</td>\n",
       "      <td>Documentary</td>\n",
       "      <td>English</td>\n",
       "      <td>United States of America</td>\n",
       "      <td>245000000.0</td>\n",
       "      <td>2.068224e+09</td>\n",
       "      <td>2015.0</td>\n",
       "    </tr>\n",
       "    <tr>\n",
       "      <th>...</th>\n",
       "      <td>...</td>\n",
       "      <td>...</td>\n",
       "      <td>...</td>\n",
       "      <td>...</td>\n",
       "      <td>...</td>\n",
       "      <td>...</td>\n",
       "      <td>...</td>\n",
       "      <td>...</td>\n",
       "      <td>...</td>\n",
       "      <td>...</td>\n",
       "      <td>...</td>\n",
       "      <td>...</td>\n",
       "      <td>...</td>\n",
       "    </tr>\n",
       "    <tr>\n",
       "      <th>50576</th>\n",
       "      <td>subdue</td>\n",
       "      <td>Hamid Nematollah</td>\n",
       "      <td>NaN</td>\n",
       "      <td>Leila Hatami</td>\n",
       "      <td>Kourosh Tahami</td>\n",
       "      <td>Elham Korda</td>\n",
       "      <td>90.0</td>\n",
       "      <td>Drama Family</td>\n",
       "      <td>فارسی</td>\n",
       "      <td>Iran</td>\n",
       "      <td>0.0</td>\n",
       "      <td>0.000000e+00</td>\n",
       "      <td>1971.0</td>\n",
       "    </tr>\n",
       "    <tr>\n",
       "      <th>50577</th>\n",
       "      <td>century of birthing</td>\n",
       "      <td>Lav Diaz</td>\n",
       "      <td>Sine Olivia</td>\n",
       "      <td>Angel Aquino</td>\n",
       "      <td>Perry Dizon</td>\n",
       "      <td>Hazel Orencio</td>\n",
       "      <td>360.0</td>\n",
       "      <td>Drama</td>\n",
       "      <td>NaN</td>\n",
       "      <td>Philippines</td>\n",
       "      <td>0.0</td>\n",
       "      <td>0.000000e+00</td>\n",
       "      <td>2011.0</td>\n",
       "    </tr>\n",
       "    <tr>\n",
       "      <th>50578</th>\n",
       "      <td>betrayal</td>\n",
       "      <td>Mark L. Lester</td>\n",
       "      <td>American World Pictures</td>\n",
       "      <td>Erika Eleniak</td>\n",
       "      <td>Adam Baldwin</td>\n",
       "      <td>Julie du Page</td>\n",
       "      <td>90.0</td>\n",
       "      <td>Action Drama Thriller</td>\n",
       "      <td>English</td>\n",
       "      <td>United States of America</td>\n",
       "      <td>0.0</td>\n",
       "      <td>0.000000e+00</td>\n",
       "      <td>2003.0</td>\n",
       "    </tr>\n",
       "    <tr>\n",
       "      <th>50579</th>\n",
       "      <td>satan triumphant</td>\n",
       "      <td>Yakov Protazanov</td>\n",
       "      <td>Yermoliev</td>\n",
       "      <td>Iwan Mosschuchin</td>\n",
       "      <td>Nathalie Lissenko</td>\n",
       "      <td>Pavel Pavlov</td>\n",
       "      <td>87.0</td>\n",
       "      <td>Drama</td>\n",
       "      <td>No Language</td>\n",
       "      <td>Russia</td>\n",
       "      <td>0.0</td>\n",
       "      <td>0.000000e+00</td>\n",
       "      <td>1917.0</td>\n",
       "    </tr>\n",
       "    <tr>\n",
       "      <th>50580</th>\n",
       "      <td>queerama</td>\n",
       "      <td>Daisy Asquith</td>\n",
       "      <td>ie ie productions</td>\n",
       "      <td>NaN</td>\n",
       "      <td>NaN</td>\n",
       "      <td>NaN</td>\n",
       "      <td>75.0</td>\n",
       "      <td>Music Documentary</td>\n",
       "      <td>English</td>\n",
       "      <td>United Kingdom</td>\n",
       "      <td>0.0</td>\n",
       "      <td>0.000000e+00</td>\n",
       "      <td>2017.0</td>\n",
       "    </tr>\n",
       "  </tbody>\n",
       "</table>\n",
       "<p>50581 rows × 13 columns</p>\n",
       "</div>"
      ],
      "text/plain": [
       "                                                   title      director_name  \\\n",
       "0                                                 avatar      James Cameron   \n",
       "1               pirates of the caribbean: at world's end     Gore Verbinski   \n",
       "2                                                spectre         Sam Mendes   \n",
       "3                                  the dark knight rises  Christopher Nolan   \n",
       "4      star wars: episode vii - the force awakens    ...        Doug Walker   \n",
       "...                                                  ...                ...   \n",
       "50576                                             subdue   Hamid Nematollah   \n",
       "50577                                century of birthing           Lav Diaz   \n",
       "50578                                           betrayal     Mark L. Lester   \n",
       "50579                                   satan triumphant   Yakov Protazanov   \n",
       "50580                                           queerama      Daisy Asquith   \n",
       "\n",
       "                                    production_companies      actor_1_name  \\\n",
       "0      Dune Entertainment Lightstorm Entertainment 20...       CCH Pounder   \n",
       "1      Jerry Bruckheimer Films Second Mate Production...       Johnny Depp   \n",
       "2      Metro-Goldwyn-Mayer Columbia Pictures EON Prod...   Christoph Waltz   \n",
       "3      Syncopy Legendary Pictures DC Entertainment Wa...         Tom Hardy   \n",
       "4                               Lucasfilm Ltd. Bad Robot       Doug Walker   \n",
       "...                                                  ...               ...   \n",
       "50576                                                NaN      Leila Hatami   \n",
       "50577                                        Sine Olivia      Angel Aquino   \n",
       "50578                            American World Pictures     Erika Eleniak   \n",
       "50579                                          Yermoliev  Iwan Mosschuchin   \n",
       "50580                                  ie ie productions               NaN   \n",
       "\n",
       "            actor_2_name          actor_3_name  duration  \\\n",
       "0       Joel David Moore             Wes Studi     178.0   \n",
       "1          Orlando Bloom        Jack Davenport     169.0   \n",
       "2           Rory Kinnear      Stephanie Sigman     148.0   \n",
       "3         Christian Bale  Joseph Gordon-Levitt     164.0   \n",
       "4             Rob Walker         Carrie Fisher     136.0   \n",
       "...                  ...                   ...       ...   \n",
       "50576     Kourosh Tahami           Elham Korda      90.0   \n",
       "50577        Perry Dizon         Hazel Orencio     360.0   \n",
       "50578       Adam Baldwin         Julie du Page      90.0   \n",
       "50579  Nathalie Lissenko          Pavel Pavlov      87.0   \n",
       "50580                NaN                   NaN      75.0   \n",
       "\n",
       "                                genres     language                   country  \\\n",
       "0      Action Adventure Fantasy Sci-Fi      English  United States of America   \n",
       "1             Action Adventure Fantasy      English  United States of America   \n",
       "2            Action Adventure Thriller      English            United Kingdom   \n",
       "3                      Action Thriller      English  United States of America   \n",
       "4                          Documentary      English  United States of America   \n",
       "...                                ...          ...                       ...   \n",
       "50576                     Drama Family        فارسی                      Iran   \n",
       "50577                            Drama          NaN               Philippines   \n",
       "50578            Action Drama Thriller      English  United States of America   \n",
       "50579                            Drama  No Language                    Russia   \n",
       "50580                Music Documentary      English            United Kingdom   \n",
       "\n",
       "            budget       revenue    year  \n",
       "0      237000000.0  2.923706e+09  2009.0  \n",
       "1      300000000.0  9.610000e+08  2007.0  \n",
       "2      245000000.0  8.806746e+08  2015.0  \n",
       "3      250000000.0  1.081041e+09  2012.0  \n",
       "4      245000000.0  2.068224e+09  2015.0  \n",
       "...            ...           ...     ...  \n",
       "50576          0.0  0.000000e+00  1971.0  \n",
       "50577          0.0  0.000000e+00  2011.0  \n",
       "50578          0.0  0.000000e+00  2003.0  \n",
       "50579          0.0  0.000000e+00  1917.0  \n",
       "50580          0.0  0.000000e+00  2017.0  \n",
       "\n",
       "[50581 rows x 13 columns]"
      ]
     },
     "execution_count": 24,
     "metadata": {},
     "output_type": "execute_result"
    }
   ],
   "source": [
    "df_mod"
   ]
  },
  {
   "cell_type": "code",
   "execution_count": 27,
   "metadata": {},
   "outputs": [],
   "source": [
    "df_mod['director_name'] = df_mod.apply(lambda row: Get_data.director_name(str(row['title'])) if pd.isna(row['director_name']) else row['director_name'], axis=1)"
   ]
  },
  {
   "cell_type": "code",
   "execution_count": 28,
   "metadata": {},
   "outputs": [
    {
     "data": {
      "text/plain": [
       "title                      3\n",
       "director_name            212\n",
       "production_companies    4965\n",
       "actor_1_name            1091\n",
       "actor_2_name            2293\n",
       "actor_3_name            2841\n",
       "duration                  72\n",
       "genres                   476\n",
       "language                1227\n",
       "country                 2050\n",
       "budget                   274\n",
       "revenue                  982\n",
       "year                      30\n",
       "dtype: int64"
      ]
     },
     "execution_count": 28,
     "metadata": {},
     "output_type": "execute_result"
    }
   ],
   "source": [
    "df_mod.isna().sum()"
   ]
  },
  {
   "cell_type": "code",
   "execution_count": 29,
   "metadata": {},
   "outputs": [],
   "source": [
    "df_mod.to_csv('data/data_filled.csv', index=False)"
   ]
  },
  {
   "cell_type": "code",
   "execution_count": null,
   "metadata": {},
   "outputs": [],
   "source": []
  }
 ],
 "metadata": {
  "kernelspec": {
   "display_name": "ml",
   "language": "python",
   "name": "python3"
  },
  "language_info": {
   "codemirror_mode": {
    "name": "ipython",
    "version": 3
   },
   "file_extension": ".py",
   "mimetype": "text/x-python",
   "name": "python",
   "nbconvert_exporter": "python",
   "pygments_lexer": "ipython3",
   "version": "3.11.5"
  }
 },
 "nbformat": 4,
 "nbformat_minor": 2
}
