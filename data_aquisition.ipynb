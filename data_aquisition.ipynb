{
 "cells": [
  {
   "cell_type": "code",
   "execution_count": 1,
   "metadata": {},
   "outputs": [],
   "source": [
    "import pandas as pd\n",
    "import numpy as np"
   ]
  },
  {
   "cell_type": "code",
   "execution_count": 2,
   "metadata": {},
   "outputs": [],
   "source": [
    "df = pd.read_csv('data/data.csv')"
   ]
  },
  {
   "cell_type": "code",
   "execution_count": 3,
   "metadata": {},
   "outputs": [
    {
     "data": {
      "text/html": [
       "<div>\n",
       "<style scoped>\n",
       "    .dataframe tbody tr th:only-of-type {\n",
       "        vertical-align: middle;\n",
       "    }\n",
       "\n",
       "    .dataframe tbody tr th {\n",
       "        vertical-align: top;\n",
       "    }\n",
       "\n",
       "    .dataframe thead th {\n",
       "        text-align: right;\n",
       "    }\n",
       "</style>\n",
       "<table border=\"1\" class=\"dataframe\">\n",
       "  <thead>\n",
       "    <tr style=\"text-align: right;\">\n",
       "      <th></th>\n",
       "      <th>title</th>\n",
       "      <th>director_name</th>\n",
       "      <th>actor_1_name</th>\n",
       "      <th>actor_2_name</th>\n",
       "      <th>actor_3_name</th>\n",
       "      <th>duration</th>\n",
       "      <th>genres</th>\n",
       "      <th>language</th>\n",
       "      <th>country</th>\n",
       "      <th>budget</th>\n",
       "      <th>gross</th>\n",
       "      <th>year</th>\n",
       "      <th>imdb_score</th>\n",
       "      <th>production_companies</th>\n",
       "      <th>revenue</th>\n",
       "    </tr>\n",
       "  </thead>\n",
       "  <tbody>\n",
       "    <tr>\n",
       "      <th>0</th>\n",
       "      <td>avatar</td>\n",
       "      <td>James Cameron</td>\n",
       "      <td>CCH Pounder</td>\n",
       "      <td>Joel David Moore</td>\n",
       "      <td>Wes Studi</td>\n",
       "      <td>178.0</td>\n",
       "      <td>Action Adventure Fantasy Sci-Fi</td>\n",
       "      <td>English</td>\n",
       "      <td>United States of America</td>\n",
       "      <td>237000000.0</td>\n",
       "      <td>760505847.0</td>\n",
       "      <td>2009.0</td>\n",
       "      <td>7.9</td>\n",
       "      <td>NaN</td>\n",
       "      <td>NaN</td>\n",
       "    </tr>\n",
       "    <tr>\n",
       "      <th>1</th>\n",
       "      <td>pirates of the caribbean: at world's end</td>\n",
       "      <td>Gore Verbinski</td>\n",
       "      <td>Johnny Depp</td>\n",
       "      <td>Orlando Bloom</td>\n",
       "      <td>Jack Davenport</td>\n",
       "      <td>169.0</td>\n",
       "      <td>Action Adventure Fantasy</td>\n",
       "      <td>English</td>\n",
       "      <td>United States of America</td>\n",
       "      <td>300000000.0</td>\n",
       "      <td>309404152.0</td>\n",
       "      <td>2007.0</td>\n",
       "      <td>7.1</td>\n",
       "      <td>NaN</td>\n",
       "      <td>NaN</td>\n",
       "    </tr>\n",
       "    <tr>\n",
       "      <th>2</th>\n",
       "      <td>spectre</td>\n",
       "      <td>Sam Mendes</td>\n",
       "      <td>Christoph Waltz</td>\n",
       "      <td>Rory Kinnear</td>\n",
       "      <td>Stephanie Sigman</td>\n",
       "      <td>148.0</td>\n",
       "      <td>Action Adventure Thriller</td>\n",
       "      <td>English</td>\n",
       "      <td>United Kingdom</td>\n",
       "      <td>245000000.0</td>\n",
       "      <td>200074175.0</td>\n",
       "      <td>2015.0</td>\n",
       "      <td>6.8</td>\n",
       "      <td>NaN</td>\n",
       "      <td>NaN</td>\n",
       "    </tr>\n",
       "    <tr>\n",
       "      <th>3</th>\n",
       "      <td>the dark knight rises</td>\n",
       "      <td>Christopher Nolan</td>\n",
       "      <td>Tom Hardy</td>\n",
       "      <td>Christian Bale</td>\n",
       "      <td>Joseph Gordon-Levitt</td>\n",
       "      <td>164.0</td>\n",
       "      <td>Action Thriller</td>\n",
       "      <td>English</td>\n",
       "      <td>United States of America</td>\n",
       "      <td>250000000.0</td>\n",
       "      <td>448130642.0</td>\n",
       "      <td>2012.0</td>\n",
       "      <td>8.5</td>\n",
       "      <td>NaN</td>\n",
       "      <td>NaN</td>\n",
       "    </tr>\n",
       "    <tr>\n",
       "      <th>4</th>\n",
       "      <td>star wars: episode vii - the force awakens    ...</td>\n",
       "      <td>Doug Walker</td>\n",
       "      <td>Doug Walker</td>\n",
       "      <td>Rob Walker</td>\n",
       "      <td>NaN</td>\n",
       "      <td>NaN</td>\n",
       "      <td>Documentary</td>\n",
       "      <td>NaN</td>\n",
       "      <td>NaN</td>\n",
       "      <td>NaN</td>\n",
       "      <td>NaN</td>\n",
       "      <td>NaN</td>\n",
       "      <td>7.1</td>\n",
       "      <td>NaN</td>\n",
       "      <td>NaN</td>\n",
       "    </tr>\n",
       "  </tbody>\n",
       "</table>\n",
       "</div>"
      ],
      "text/plain": [
       "                                               title      director_name  \\\n",
       "0                                             avatar      James Cameron   \n",
       "1           pirates of the caribbean: at world's end     Gore Verbinski   \n",
       "2                                            spectre         Sam Mendes   \n",
       "3                              the dark knight rises  Christopher Nolan   \n",
       "4  star wars: episode vii - the force awakens    ...        Doug Walker   \n",
       "\n",
       "      actor_1_name      actor_2_name          actor_3_name  duration  \\\n",
       "0      CCH Pounder  Joel David Moore             Wes Studi     178.0   \n",
       "1      Johnny Depp     Orlando Bloom        Jack Davenport     169.0   \n",
       "2  Christoph Waltz      Rory Kinnear      Stephanie Sigman     148.0   \n",
       "3        Tom Hardy    Christian Bale  Joseph Gordon-Levitt     164.0   \n",
       "4      Doug Walker        Rob Walker                   NaN       NaN   \n",
       "\n",
       "                            genres language                   country  \\\n",
       "0  Action Adventure Fantasy Sci-Fi  English  United States of America   \n",
       "1         Action Adventure Fantasy  English  United States of America   \n",
       "2        Action Adventure Thriller  English            United Kingdom   \n",
       "3                  Action Thriller  English  United States of America   \n",
       "4                      Documentary      NaN                       NaN   \n",
       "\n",
       "        budget        gross    year  imdb_score production_companies  revenue  \n",
       "0  237000000.0  760505847.0  2009.0         7.9                  NaN      NaN  \n",
       "1  300000000.0  309404152.0  2007.0         7.1                  NaN      NaN  \n",
       "2  245000000.0  200074175.0  2015.0         6.8                  NaN      NaN  \n",
       "3  250000000.0  448130642.0  2012.0         8.5                  NaN      NaN  \n",
       "4          NaN          NaN     NaN         7.1                  NaN      NaN  "
      ]
     },
     "execution_count": 3,
     "metadata": {},
     "output_type": "execute_result"
    }
   ],
   "source": [
    "df.head()"
   ]
  },
  {
   "cell_type": "code",
   "execution_count": 4,
   "metadata": {},
   "outputs": [
    {
     "name": "stdout",
     "output_type": "stream",
     "text": [
      "Requirement already satisfied: tmdbv3api in /Users/user/anaconda3/envs/ml/lib/python3.11/site-packages (1.9.0)\n",
      "Requirement already satisfied: requests in /Users/user/anaconda3/envs/ml/lib/python3.11/site-packages (from tmdbv3api) (2.31.0)\n",
      "Requirement already satisfied: charset-normalizer<4,>=2 in /Users/user/anaconda3/envs/ml/lib/python3.11/site-packages (from requests->tmdbv3api) (2.0.4)\n",
      "Requirement already satisfied: idna<4,>=2.5 in /Users/user/anaconda3/envs/ml/lib/python3.11/site-packages (from requests->tmdbv3api) (3.4)\n",
      "Requirement already satisfied: urllib3<3,>=1.21.1 in /Users/user/anaconda3/envs/ml/lib/python3.11/site-packages (from requests->tmdbv3api) (1.26.16)\n",
      "Requirement already satisfied: certifi>=2017.4.17 in /Users/user/anaconda3/envs/ml/lib/python3.11/site-packages (from requests->tmdbv3api) (2023.11.17)\n"
     ]
    }
   ],
   "source": [
    "!pip install tmdbv3api"
   ]
  },
  {
   "cell_type": "code",
   "execution_count": 5,
   "metadata": {},
   "outputs": [],
   "source": [
    "from tmdbv3api import TMDb\n",
    "import json\n",
    "import requests\n",
    "tmdb = TMDb()\n",
    "tmdb.api_key = '07cc151730daa91e60bd8a7ad5ca9986'"
   ]
  },
  {
   "cell_type": "code",
   "execution_count": 6,
   "metadata": {},
   "outputs": [],
   "source": [
    "from tmdbv3api import Movie\n",
    "tmdb_movie = Movie()\n",
    "class Get_data:\n",
    "    \n",
    "    def genre(x):\n",
    "        genres = []\n",
    "        result = tmdb_movie.search(x)\n",
    "        if not result.results:\n",
    "            return np.NaN\n",
    "        movie_id = result[0].id\n",
    "        response = requests.get(f'https://api.themoviedb.org/3/movie/{movie_id}?api_key={tmdb.api_key}')\n",
    "        data_json = response.json()\n",
    "        if data_json['genres']:\n",
    "            genre_str = \" \"\n",
    "            for i in range(0,len(data_json['genres'])):\n",
    "                genres.append(data_json['genres'][i]['name'])\n",
    "            return genre_str.join(genres)\n",
    "        else:\n",
    "            np.NaN\n",
    "\n",
    "    def production_companies(x):\n",
    "        production_companies = []\n",
    "        result = tmdb_movie.search(x)\n",
    "        if not result.results:\n",
    "            return np.NaN\n",
    "        movie_id = result[0].id\n",
    "        response = requests.get(f'https://api.themoviedb.org/3/movie/{movie_id}?api_key={tmdb.api_key}')\n",
    "        data_json = response.json()\n",
    "        if data_json['production_companies']:\n",
    "            genre_str = \" \" \n",
    "            for i in range(0,len(data_json['production_companies'])):\n",
    "                production_companies.append(data_json['production_companies'][i]['name'])\n",
    "            return genre_str.join(production_companies)\n",
    "        else:\n",
    "            np.NaN\n",
    "\n",
    "    def country(x):\n",
    "        production_countries = []\n",
    "        result = tmdb_movie.search(x)\n",
    "        if not result.results:\n",
    "            return np.NaN\n",
    "        movie_id = result[0].id\n",
    "        response = requests.get(f'https://api.themoviedb.org/3/movie/{movie_id}?api_key={tmdb.api_key}')\n",
    "        data_json = response.json()\n",
    "        if data_json['production_countries']:\n",
    "            genre_str = \" \" \n",
    "            for i in range(0,len(data_json['production_countries'])):\n",
    "                production_countries.append(data_json['production_countries'][i]['name'])\n",
    "            return genre_str.join(production_countries)\n",
    "        else:\n",
    "            np.NaN\n",
    "    \n",
    "    def language(x):\n",
    "        spoken_languages = []\n",
    "        result = tmdb_movie.search(x)\n",
    "        if not result.results:\n",
    "            return np.NaN\n",
    "        movie_id = result[0].id\n",
    "        response = requests.get(f'https://api.themoviedb.org/3/movie/{movie_id}?api_key={tmdb.api_key}')\n",
    "        data_json = response.json()\n",
    "        if data_json['spoken_languages']:\n",
    "            genre_str = \" \" \n",
    "            for i in range(0,len(data_json['spoken_languages'])):\n",
    "                spoken_languages.append(data_json['spoken_languages'][i]['name'])\n",
    "            return genre_str.join(spoken_languages)\n",
    "        else:\n",
    "            np.NaN\n",
    "\n",
    "    def year(x):\n",
    "        result = tmdb_movie.search(x)\n",
    "        if not result.results:\n",
    "            return np.NaN\n",
    "        movie_id = result[0].id\n",
    "        response = requests.get(f'https://api.themoviedb.org/3/movie/{movie_id}?api_key={tmdb.api_key}')\n",
    "        data_json = response.json()\n",
    "        if data_json['release_date']:\n",
    "            return data_json['release_date'].split('-')[0]\n",
    "        else:\n",
    "            np.NaN\n",
    "\n",
    "    def budget(x):\n",
    "        result = tmdb_movie.search(x)\n",
    "        if not result.results:\n",
    "            return np.NaN\n",
    "        movie_id = result[0].id\n",
    "        response = requests.get(f'https://api.themoviedb.org/3/movie/{movie_id}?api_key={tmdb.api_key}')\n",
    "        data_json = response.json()\n",
    "        if data_json['budget']:\n",
    "            return data_json['budget']\n",
    "        else:\n",
    "            np.NaN\n",
    "\n",
    "    def revenue(x):\n",
    "        result = tmdb_movie.search(x)\n",
    "        if not result.results:\n",
    "            return np.NaN\n",
    "        movie_id = result[0].id\n",
    "        response = requests.get(f'https://api.themoviedb.org/3/movie/{movie_id}?api_key={tmdb.api_key}')\n",
    "        data_json = response.json()\n",
    "        if data_json['revenue']:\n",
    "            return data_json['revenue']\n",
    "        else:\n",
    "            np.NaN\n",
    "\n",
    "    def duration(x):\n",
    "        result = tmdb_movie.search(x)\n",
    "        if not result.results:\n",
    "            return np.NaN\n",
    "        movie_id = result[0].id\n",
    "        response = requests.get(f'https://api.themoviedb.org/3/movie/{movie_id}?api_key={tmdb.api_key}')\n",
    "        data_json = response.json()\n",
    "        if data_json['runtime']:\n",
    "            return data_json['runtime']\n",
    "        else:\n",
    "            np.NaN\n",
    "\n",
    "    def director_name(x):\n",
    "        result = tmdb_movie.search(x)\n",
    "        if not result.results:\n",
    "            return np.NaN\n",
    "        movie_id = result[0].id\n",
    "        response = requests.get(f'https://api.themoviedb.org/3/movie/{movie_id}/credits?api_key={tmdb.api_key}')\n",
    "        data_json = response.json()\n",
    "        if data_json['crew']:\n",
    "            return data_json['crew'][0]['name']\n",
    "        else:\n",
    "            np.NaN\n",
    "        \n",
    "    def actor_1_name(x):\n",
    "        result = tmdb_movie.search(x)\n",
    "        if not result.results:\n",
    "            return np.NaN\n",
    "        movie_id = result[0].id\n",
    "        response = requests.get(f'https://api.themoviedb.org/3/movie/{movie_id}/credits?api_key={tmdb.api_key}')\n",
    "        data_json = response.json()\n",
    "        if data_json['cast']:\n",
    "            return data_json['cast'][0]['name']\n",
    "        else:\n",
    "            np.NaN\n",
    "\n",
    "    def actor_2_name(x):\n",
    "        result = tmdb_movie.search(x)\n",
    "        if not result.results:\n",
    "            return np.NaN\n",
    "        movie_id = result[0].id\n",
    "        response = requests.get(f'https://api.themoviedb.org/3/movie/{movie_id}/credits?api_key={tmdb.api_key}')\n",
    "        data_json = response.json()\n",
    "        if data_json['cast']:\n",
    "            return data_json['cast'][1]['name']\n",
    "        else:\n",
    "            np.NaN\n",
    "\n",
    "    def actor_3_name(x):\n",
    "        result = tmdb_movie.search(x)\n",
    "        if not result.results:\n",
    "            return np.NaN\n",
    "        movie_id = result[0].id\n",
    "        response = requests.get(f'https://api.themoviedb.org/3/movie/{movie_id}/credits?api_key={tmdb.api_key}')\n",
    "        data_json = response.json()\n",
    "        if data_json['cast']:\n",
    "            return data_json['cast'][2]['name']\n",
    "        else:\n",
    "            np.NaN"
   ]
  },
  {
   "cell_type": "code",
   "execution_count": 7,
   "metadata": {},
   "outputs": [],
   "source": [
    "# df['title'].map(lambda x: Get_data.genre(str(x)) if type(x) != str else ...)\n",
    "df['genres'] = df.apply(lambda row: Get_data.genre(str(row['title'])) if type(row['genres']) != str else row['genres'], axis=1)"
   ]
  },
  {
   "cell_type": "code",
   "execution_count": 8,
   "metadata": {},
   "outputs": [
    {
     "data": {
      "text/plain": [
       "477"
      ]
     },
     "execution_count": 8,
     "metadata": {},
     "output_type": "execute_result"
    }
   ],
   "source": [
    "df['genres'].isna().sum()"
   ]
  },
  {
   "cell_type": "code",
   "execution_count": 9,
   "metadata": {},
   "outputs": [],
   "source": [
    "# df['production_companies'] = df['title'].map(lambda x: Get_data.production_companies(str(x)) if type(x) != str else ...)\n",
    "df['production_companies'] = df.apply(lambda row: Get_data.production_companies(str(row['title'])) if type(row['production_companies']) != str else row['production_companies'], axis=1)"
   ]
  },
  {
   "cell_type": "code",
   "execution_count": null,
   "metadata": {},
   "outputs": [
    {
     "data": {
      "text/plain": [
       "16942"
      ]
     },
     "execution_count": 12,
     "metadata": {},
     "output_type": "execute_result"
    }
   ],
   "source": [
    "df['production_companies'].isna().sum()"
   ]
  },
  {
   "cell_type": "code",
   "execution_count": null,
   "metadata": {},
   "outputs": [],
   "source": [
    "# df['country'] = df['title'].map(lambda x: Get_data.country(str(x)) if type(x) != str else ...)\n",
    "df['country'] = df.apply(lambda row: Get_data.country(str(row['title'])) if type(row['country']) != str else row['country'], axis=1)"
   ]
  },
  {
   "cell_type": "code",
   "execution_count": null,
   "metadata": {},
   "outputs": [
    {
     "data": {
      "text/plain": [
       "0"
      ]
     },
     "execution_count": 15,
     "metadata": {},
     "output_type": "execute_result"
    }
   ],
   "source": [
    "df['country'].isna().sum()"
   ]
  },
  {
   "cell_type": "code",
   "execution_count": null,
   "metadata": {},
   "outputs": [],
   "source": [
    "# df['language'] = df['title'].map(lambda x: Get_data.language(str(x)) if type(x) != str else ...)\n",
    "df['language'] = df.apply(lambda row: Get_data.language(str(row['title'])) if type(row['language']) != str else row['language'], axis=1)"
   ]
  },
  {
   "cell_type": "code",
   "execution_count": null,
   "metadata": {},
   "outputs": [
    {
     "data": {
      "text/plain": [
       "0"
      ]
     },
     "execution_count": 17,
     "metadata": {},
     "output_type": "execute_result"
    }
   ],
   "source": [
    "df['language'].isna().sum()"
   ]
  },
  {
   "cell_type": "code",
   "execution_count": null,
   "metadata": {},
   "outputs": [],
   "source": [
    "# df['year'] = df['title'].map(lambda x: Get_data.year(str(x)) if type(x) != str else ...)\n",
    "df['year'] = df.apply(lambda row: Get_data.year(str(row['title'])) if type(row['year']) != str else row['year'], axis=1)"
   ]
  },
  {
   "cell_type": "code",
   "execution_count": null,
   "metadata": {},
   "outputs": [
    {
     "data": {
      "text/plain": [
       "0"
      ]
     },
     "execution_count": 19,
     "metadata": {},
     "output_type": "execute_result"
    }
   ],
   "source": [
    "df['year'].isna().sum()"
   ]
  },
  {
   "cell_type": "code",
   "execution_count": null,
   "metadata": {},
   "outputs": [],
   "source": [
    "# df['budget'] = df['title'].map(lambda x: Get_data.budget(str(x)) if type(x) != str else ...)\n",
    "df['budget'] = df.apply(lambda row: Get_data.budget(str(row['title'])) if type(row['budget']) != str else row['budget'], axis=1)"
   ]
  },
  {
   "cell_type": "code",
   "execution_count": null,
   "metadata": {},
   "outputs": [
    {
     "data": {
      "text/plain": [
       "0"
      ]
     },
     "execution_count": 21,
     "metadata": {},
     "output_type": "execute_result"
    }
   ],
   "source": [
    "df['budget'].isna().sum()"
   ]
  },
  {
   "cell_type": "code",
   "execution_count": null,
   "metadata": {},
   "outputs": [],
   "source": [
    "# df['revenue'] = df['title'].map(lambda x: Get_data.revenue(str(x)) if type(x) != str else ...)\n",
    "df['revenue'] = df.apply(lambda row: Get_data.revenue(str(row['title'])) if type(row['revenue']) != str else row['revenue'], axis=1)"
   ]
  },
  {
   "cell_type": "code",
   "execution_count": null,
   "metadata": {},
   "outputs": [
    {
     "data": {
      "text/plain": [
       "3"
      ]
     },
     "execution_count": 24,
     "metadata": {},
     "output_type": "execute_result"
    }
   ],
   "source": [
    "df['revenue'].isna().sum()"
   ]
  },
  {
   "cell_type": "code",
   "execution_count": null,
   "metadata": {},
   "outputs": [],
   "source": [
    "# df['duration'] = df['title'].map(lambda x: Get_data.duration(str(x)) if type(x) != str else ...)\n",
    "df['duration'] = df.apply(lambda row: Get_data.duration(str(row['title'])) if type(row['duration']) != str else row['duration'], axis=1)"
   ]
  },
  {
   "cell_type": "code",
   "execution_count": null,
   "metadata": {},
   "outputs": [
    {
     "data": {
      "text/plain": [
       "0"
      ]
     },
     "execution_count": 27,
     "metadata": {},
     "output_type": "execute_result"
    }
   ],
   "source": [
    "df['duration'].isna().sum()"
   ]
  },
  {
   "cell_type": "code",
   "execution_count": null,
   "metadata": {},
   "outputs": [
    {
     "data": {
      "text/plain": [
       "title                       3\n",
       "director_name             991\n",
       "actor_1_name             2427\n",
       "actor_2_name             3765\n",
       "actor_3_name             4687\n",
       "duration                    0\n",
       "genres                      0\n",
       "language                    0\n",
       "country                     0\n",
       "budget                      0\n",
       "gross                   46422\n",
       "year                        0\n",
       "imdb_score              45538\n",
       "production_companies        0\n",
       "revenue                     3\n",
       "dtype: int64"
      ]
     },
     "execution_count": 28,
     "metadata": {},
     "output_type": "execute_result"
    }
   ],
   "source": [
    "df.isna().sum()"
   ]
  },
  {
   "cell_type": "code",
   "execution_count": null,
   "metadata": {},
   "outputs": [
    {
     "data": {
      "text/html": [
       "<div>\n",
       "<style scoped>\n",
       "    .dataframe tbody tr th:only-of-type {\n",
       "        vertical-align: middle;\n",
       "    }\n",
       "\n",
       "    .dataframe tbody tr th {\n",
       "        vertical-align: top;\n",
       "    }\n",
       "\n",
       "    .dataframe thead th {\n",
       "        text-align: right;\n",
       "    }\n",
       "</style>\n",
       "<table border=\"1\" class=\"dataframe\">\n",
       "  <thead>\n",
       "    <tr style=\"text-align: right;\">\n",
       "      <th></th>\n",
       "      <th>title</th>\n",
       "      <th>director_name</th>\n",
       "      <th>actor_1_name</th>\n",
       "      <th>actor_2_name</th>\n",
       "      <th>actor_3_name</th>\n",
       "      <th>duration</th>\n",
       "      <th>genres</th>\n",
       "      <th>language</th>\n",
       "      <th>country</th>\n",
       "      <th>budget</th>\n",
       "      <th>gross</th>\n",
       "      <th>year</th>\n",
       "      <th>imdb_score</th>\n",
       "      <th>production_companies</th>\n",
       "      <th>revenue</th>\n",
       "    </tr>\n",
       "  </thead>\n",
       "  <tbody>\n",
       "    <tr>\n",
       "      <th>24844</th>\n",
       "      <td>NaN</td>\n",
       "      <td>Lawrence Gordon Clark</td>\n",
       "      <td>Rob Lowe</td>\n",
       "      <td>Kenneth Cranham</td>\n",
       "      <td>Deborah Moore</td>\n",
       "      <td>30</td>\n",
       "      <td>Drama Crime</td>\n",
       "      <td>Nederlands</td>\n",
       "      <td>Belgium Iraq</td>\n",
       "      <td>10000</td>\n",
       "      <td>NaN</td>\n",
       "      <td>2008</td>\n",
       "      <td>NaN</td>\n",
       "      <td>Hogeschool Sint-Lukas Brussel</td>\n",
       "      <td>None</td>\n",
       "    </tr>\n",
       "    <tr>\n",
       "      <th>34627</th>\n",
       "      <td>NaN</td>\n",
       "      <td>Susumu Kudo</td>\n",
       "      <td>Megumi Hayashibara</td>\n",
       "      <td>Hiroki Touchi</td>\n",
       "      <td>Kazuya Nakai</td>\n",
       "      <td>30</td>\n",
       "      <td>Drama Crime</td>\n",
       "      <td>Nederlands</td>\n",
       "      <td>Belgium Iraq</td>\n",
       "      <td>10000</td>\n",
       "      <td>NaN</td>\n",
       "      <td>2008</td>\n",
       "      <td>NaN</td>\n",
       "      <td>Hogeschool Sint-Lukas Brussel</td>\n",
       "      <td>None</td>\n",
       "    </tr>\n",
       "    <tr>\n",
       "      <th>40710</th>\n",
       "      <td>NaN</td>\n",
       "      <td>Scott Wheeler</td>\n",
       "      <td>Alexander Mendeluk</td>\n",
       "      <td>Kate Nauta</td>\n",
       "      <td>Benjamin Easterday</td>\n",
       "      <td>30</td>\n",
       "      <td>Drama Crime</td>\n",
       "      <td>Nederlands</td>\n",
       "      <td>Belgium Iraq</td>\n",
       "      <td>10000</td>\n",
       "      <td>NaN</td>\n",
       "      <td>2008</td>\n",
       "      <td>NaN</td>\n",
       "      <td>Hogeschool Sint-Lukas Brussel</td>\n",
       "      <td>None</td>\n",
       "    </tr>\n",
       "  </tbody>\n",
       "</table>\n",
       "</div>"
      ],
      "text/plain": [
       "      title          director_name        actor_1_name     actor_2_name  \\\n",
       "24844   NaN  Lawrence Gordon Clark            Rob Lowe  Kenneth Cranham   \n",
       "34627   NaN            Susumu Kudo  Megumi Hayashibara    Hiroki Touchi   \n",
       "40710   NaN          Scott Wheeler  Alexander Mendeluk       Kate Nauta   \n",
       "\n",
       "             actor_3_name duration       genres     language       country  \\\n",
       "24844       Deborah Moore       30  Drama Crime  Nederlands   Belgium Iraq   \n",
       "34627        Kazuya Nakai       30  Drama Crime  Nederlands   Belgium Iraq   \n",
       "40710  Benjamin Easterday       30  Drama Crime  Nederlands   Belgium Iraq   \n",
       "\n",
       "      budget  gross  year  imdb_score           production_companies revenue  \n",
       "24844  10000    NaN  2008         NaN  Hogeschool Sint-Lukas Brussel    None  \n",
       "34627  10000    NaN  2008         NaN  Hogeschool Sint-Lukas Brussel    None  \n",
       "40710  10000    NaN  2008         NaN  Hogeschool Sint-Lukas Brussel    None  "
      ]
     },
     "execution_count": 29,
     "metadata": {},
     "output_type": "execute_result"
    }
   ],
   "source": [
    "df[df['revenue'].isna()]"
   ]
  },
  {
   "cell_type": "code",
   "execution_count": null,
   "metadata": {},
   "outputs": [],
   "source": [
    "# df['director_name'] = df['title'].map(lambda x: Get_data.director_name(str(x)) if type(x) != str else ...)\n",
    "df['director_name'] = df.apply(lambda row: Get_data.director_name(str(row['title'])) if type(row['director_name']) != str else row['director_name'], axis=1)"
   ]
  },
  {
   "cell_type": "code",
   "execution_count": null,
   "metadata": {},
   "outputs": [],
   "source": [
    "# df['actor_1_name'] = df['title'].map(lambda x: Get_data.actor_1_name(str(x)) if type(x) != str else ...)\n",
    "df['actor_1_name'] = df.apply(lambda row: Get_data.actor_1_name(str(row['title'])) if type(row['actor_1_name']) != str else row['actor_1_name'], axis=1)"
   ]
  },
  {
   "cell_type": "code",
   "execution_count": null,
   "metadata": {},
   "outputs": [],
   "source": [
    "# df['actor_2_name'] = df['title'].map(lambda x: Get_data.actor_2_name(str(x)) if type(x) != str else ...)\n",
    "df['actor_2_name'] = df.apply(lambda row: Get_data.actor_2_name(str(row['title'])) if type(row['actor_2_name']) != str else row['actor_2_name'], axis=1)"
   ]
  },
  {
   "cell_type": "code",
   "execution_count": null,
   "metadata": {},
   "outputs": [],
   "source": [
    "# df['actor_3_name'] = df['title'].map(lambda x: Get_data.actor_3_name(str(x)) if type(x) != str else ...)\n",
    "df['actor_3_name'] = df.apply(lambda row: Get_data.actor_3_name(str(row['title'])) if type(row['actor_3_name']) != str else row['actor_3_name'], axis=1)"
   ]
  },
  {
   "cell_type": "code",
   "execution_count": null,
   "metadata": {},
   "outputs": [
    {
     "data": {
      "text/plain": [
       "title                       3\n",
       "director_name               0\n",
       "actor_1_name                0\n",
       "actor_2_name                0\n",
       "actor_3_name                0\n",
       "duration                    0\n",
       "genres                      0\n",
       "language                    0\n",
       "country                     0\n",
       "budget                      0\n",
       "gross                   46422\n",
       "year                        0\n",
       "imdb_score              45538\n",
       "production_companies        0\n",
       "revenue                     3\n",
       "dtype: int64"
      ]
     },
     "execution_count": 34,
     "metadata": {},
     "output_type": "execute_result"
    }
   ],
   "source": [
    "df.isna().sum()"
   ]
  },
  {
   "cell_type": "code",
   "execution_count": null,
   "metadata": {},
   "outputs": [
    {
     "data": {
      "text/html": [
       "<div>\n",
       "<style scoped>\n",
       "    .dataframe tbody tr th:only-of-type {\n",
       "        vertical-align: middle;\n",
       "    }\n",
       "\n",
       "    .dataframe tbody tr th {\n",
       "        vertical-align: top;\n",
       "    }\n",
       "\n",
       "    .dataframe thead th {\n",
       "        text-align: right;\n",
       "    }\n",
       "</style>\n",
       "<table border=\"1\" class=\"dataframe\">\n",
       "  <thead>\n",
       "    <tr style=\"text-align: right;\">\n",
       "      <th></th>\n",
       "      <th>title</th>\n",
       "      <th>director_name</th>\n",
       "      <th>actor_1_name</th>\n",
       "      <th>actor_2_name</th>\n",
       "      <th>actor_3_name</th>\n",
       "      <th>duration</th>\n",
       "      <th>genres</th>\n",
       "      <th>language</th>\n",
       "      <th>country</th>\n",
       "      <th>budget</th>\n",
       "      <th>gross</th>\n",
       "      <th>year</th>\n",
       "      <th>imdb_score</th>\n",
       "      <th>production_companies</th>\n",
       "      <th>revenue</th>\n",
       "    </tr>\n",
       "  </thead>\n",
       "  <tbody>\n",
       "    <tr>\n",
       "      <th>24844</th>\n",
       "      <td>NaN</td>\n",
       "      <td>Sahim Omar Kalifa</td>\n",
       "      <td>Kehreman macid</td>\n",
       "      <td>Leila laraaj</td>\n",
       "      <td>Rikkert Van Dijck</td>\n",
       "      <td>30</td>\n",
       "      <td>Drama Crime</td>\n",
       "      <td>Nederlands</td>\n",
       "      <td>Belgium Iraq</td>\n",
       "      <td>10000</td>\n",
       "      <td>NaN</td>\n",
       "      <td>2008</td>\n",
       "      <td>NaN</td>\n",
       "      <td>Hogeschool Sint-Lukas Brussel</td>\n",
       "      <td>None</td>\n",
       "    </tr>\n",
       "    <tr>\n",
       "      <th>34627</th>\n",
       "      <td>NaN</td>\n",
       "      <td>Sahim Omar Kalifa</td>\n",
       "      <td>Kehreman macid</td>\n",
       "      <td>Leila laraaj</td>\n",
       "      <td>Rikkert Van Dijck</td>\n",
       "      <td>30</td>\n",
       "      <td>Drama Crime</td>\n",
       "      <td>Nederlands</td>\n",
       "      <td>Belgium Iraq</td>\n",
       "      <td>10000</td>\n",
       "      <td>NaN</td>\n",
       "      <td>2008</td>\n",
       "      <td>NaN</td>\n",
       "      <td>Hogeschool Sint-Lukas Brussel</td>\n",
       "      <td>None</td>\n",
       "    </tr>\n",
       "    <tr>\n",
       "      <th>40710</th>\n",
       "      <td>NaN</td>\n",
       "      <td>Sahim Omar Kalifa</td>\n",
       "      <td>Kehreman macid</td>\n",
       "      <td>Leila laraaj</td>\n",
       "      <td>Rikkert Van Dijck</td>\n",
       "      <td>30</td>\n",
       "      <td>Drama Crime</td>\n",
       "      <td>Nederlands</td>\n",
       "      <td>Belgium Iraq</td>\n",
       "      <td>10000</td>\n",
       "      <td>NaN</td>\n",
       "      <td>2008</td>\n",
       "      <td>NaN</td>\n",
       "      <td>Hogeschool Sint-Lukas Brussel</td>\n",
       "      <td>None</td>\n",
       "    </tr>\n",
       "  </tbody>\n",
       "</table>\n",
       "</div>"
      ],
      "text/plain": [
       "      title      director_name    actor_1_name  actor_2_name  \\\n",
       "24844   NaN  Sahim Omar Kalifa  Kehreman macid  Leila laraaj   \n",
       "34627   NaN  Sahim Omar Kalifa  Kehreman macid  Leila laraaj   \n",
       "40710   NaN  Sahim Omar Kalifa  Kehreman macid  Leila laraaj   \n",
       "\n",
       "            actor_3_name duration       genres     language       country  \\\n",
       "24844  Rikkert Van Dijck       30  Drama Crime  Nederlands   Belgium Iraq   \n",
       "34627  Rikkert Van Dijck       30  Drama Crime  Nederlands   Belgium Iraq   \n",
       "40710  Rikkert Van Dijck       30  Drama Crime  Nederlands   Belgium Iraq   \n",
       "\n",
       "      budget  gross  year  imdb_score           production_companies revenue  \n",
       "24844  10000    NaN  2008         NaN  Hogeschool Sint-Lukas Brussel    None  \n",
       "34627  10000    NaN  2008         NaN  Hogeschool Sint-Lukas Brussel    None  \n",
       "40710  10000    NaN  2008         NaN  Hogeschool Sint-Lukas Brussel    None  "
      ]
     },
     "execution_count": 35,
     "metadata": {},
     "output_type": "execute_result"
    }
   ],
   "source": [
    "df[df['title'].isna()]"
   ]
  },
  {
   "cell_type": "code",
   "execution_count": null,
   "metadata": {},
   "outputs": [],
   "source": [
    "df.dropna(subset=['title'], inplace=True)"
   ]
  },
  {
   "cell_type": "code",
   "execution_count": null,
   "metadata": {},
   "outputs": [
    {
     "data": {
      "text/plain": [
       "title                       0\n",
       "director_name               0\n",
       "actor_1_name                0\n",
       "actor_2_name                0\n",
       "actor_3_name                0\n",
       "duration                    0\n",
       "genres                      0\n",
       "language                    0\n",
       "country                     0\n",
       "budget                      0\n",
       "gross                   46419\n",
       "year                        0\n",
       "imdb_score              45535\n",
       "production_companies        0\n",
       "revenue                     0\n",
       "dtype: int64"
      ]
     },
     "execution_count": 37,
     "metadata": {},
     "output_type": "execute_result"
    }
   ],
   "source": [
    "df.isna().sum()"
   ]
  },
  {
   "cell_type": "code",
   "execution_count": null,
   "metadata": {},
   "outputs": [],
   "source": [
    "df.drop(columns=['gross'], inplace=True)"
   ]
  },
  {
   "cell_type": "code",
   "execution_count": null,
   "metadata": {},
   "outputs": [
    {
     "data": {
      "text/plain": [
       "title                       0\n",
       "director_name               0\n",
       "actor_1_name                0\n",
       "actor_2_name                0\n",
       "actor_3_name                0\n",
       "duration                    0\n",
       "genres                      0\n",
       "language                    0\n",
       "country                     0\n",
       "budget                      0\n",
       "year                        0\n",
       "imdb_score              45535\n",
       "production_companies        0\n",
       "revenue                     0\n",
       "dtype: int64"
      ]
     },
     "execution_count": 39,
     "metadata": {},
     "output_type": "execute_result"
    }
   ],
   "source": [
    "df.isna().sum()"
   ]
  },
  {
   "cell_type": "code",
   "execution_count": null,
   "metadata": {},
   "outputs": [
    {
     "data": {
      "text/html": [
       "<div>\n",
       "<style scoped>\n",
       "    .dataframe tbody tr th:only-of-type {\n",
       "        vertical-align: middle;\n",
       "    }\n",
       "\n",
       "    .dataframe tbody tr th {\n",
       "        vertical-align: top;\n",
       "    }\n",
       "\n",
       "    .dataframe thead th {\n",
       "        text-align: right;\n",
       "    }\n",
       "</style>\n",
       "<table border=\"1\" class=\"dataframe\">\n",
       "  <thead>\n",
       "    <tr style=\"text-align: right;\">\n",
       "      <th></th>\n",
       "      <th>title</th>\n",
       "      <th>director_name</th>\n",
       "      <th>actor_1_name</th>\n",
       "      <th>actor_2_name</th>\n",
       "      <th>actor_3_name</th>\n",
       "      <th>duration</th>\n",
       "      <th>genres</th>\n",
       "      <th>language</th>\n",
       "      <th>country</th>\n",
       "      <th>budget</th>\n",
       "      <th>year</th>\n",
       "      <th>imdb_score</th>\n",
       "      <th>production_companies</th>\n",
       "      <th>revenue</th>\n",
       "    </tr>\n",
       "  </thead>\n",
       "  <tbody>\n",
       "    <tr>\n",
       "      <th>0</th>\n",
       "      <td>avatar</td>\n",
       "      <td>Ellipsis</td>\n",
       "      <td>Ellipsis</td>\n",
       "      <td>Ellipsis</td>\n",
       "      <td>Ellipsis</td>\n",
       "      <td>Ellipsis</td>\n",
       "      <td>Ellipsis</td>\n",
       "      <td>Ellipsis</td>\n",
       "      <td>Ellipsis</td>\n",
       "      <td>Ellipsis</td>\n",
       "      <td>Ellipsis</td>\n",
       "      <td>7.9</td>\n",
       "      <td>Ellipsis</td>\n",
       "      <td>Ellipsis</td>\n",
       "    </tr>\n",
       "    <tr>\n",
       "      <th>1</th>\n",
       "      <td>pirates of the caribbean: at world's end</td>\n",
       "      <td>Ellipsis</td>\n",
       "      <td>Ellipsis</td>\n",
       "      <td>Ellipsis</td>\n",
       "      <td>Ellipsis</td>\n",
       "      <td>Ellipsis</td>\n",
       "      <td>Ellipsis</td>\n",
       "      <td>Ellipsis</td>\n",
       "      <td>Ellipsis</td>\n",
       "      <td>Ellipsis</td>\n",
       "      <td>Ellipsis</td>\n",
       "      <td>7.1</td>\n",
       "      <td>Ellipsis</td>\n",
       "      <td>Ellipsis</td>\n",
       "    </tr>\n",
       "    <tr>\n",
       "      <th>2</th>\n",
       "      <td>spectre</td>\n",
       "      <td>Ellipsis</td>\n",
       "      <td>Ellipsis</td>\n",
       "      <td>Ellipsis</td>\n",
       "      <td>Ellipsis</td>\n",
       "      <td>Ellipsis</td>\n",
       "      <td>Ellipsis</td>\n",
       "      <td>Ellipsis</td>\n",
       "      <td>Ellipsis</td>\n",
       "      <td>Ellipsis</td>\n",
       "      <td>Ellipsis</td>\n",
       "      <td>6.8</td>\n",
       "      <td>Ellipsis</td>\n",
       "      <td>Ellipsis</td>\n",
       "    </tr>\n",
       "    <tr>\n",
       "      <th>3</th>\n",
       "      <td>the dark knight rises</td>\n",
       "      <td>Ellipsis</td>\n",
       "      <td>Ellipsis</td>\n",
       "      <td>Ellipsis</td>\n",
       "      <td>Ellipsis</td>\n",
       "      <td>Ellipsis</td>\n",
       "      <td>Ellipsis</td>\n",
       "      <td>Ellipsis</td>\n",
       "      <td>Ellipsis</td>\n",
       "      <td>Ellipsis</td>\n",
       "      <td>Ellipsis</td>\n",
       "      <td>8.5</td>\n",
       "      <td>Ellipsis</td>\n",
       "      <td>Ellipsis</td>\n",
       "    </tr>\n",
       "    <tr>\n",
       "      <th>4</th>\n",
       "      <td>star wars: episode vii - the force awakens    ...</td>\n",
       "      <td>Ellipsis</td>\n",
       "      <td>Ellipsis</td>\n",
       "      <td>Ellipsis</td>\n",
       "      <td>Ellipsis</td>\n",
       "      <td>Ellipsis</td>\n",
       "      <td>Ellipsis</td>\n",
       "      <td>Ellipsis</td>\n",
       "      <td>Ellipsis</td>\n",
       "      <td>Ellipsis</td>\n",
       "      <td>Ellipsis</td>\n",
       "      <td>7.1</td>\n",
       "      <td>Ellipsis</td>\n",
       "      <td>Ellipsis</td>\n",
       "    </tr>\n",
       "    <tr>\n",
       "      <th>...</th>\n",
       "      <td>...</td>\n",
       "      <td>...</td>\n",
       "      <td>...</td>\n",
       "      <td>...</td>\n",
       "      <td>...</td>\n",
       "      <td>...</td>\n",
       "      <td>...</td>\n",
       "      <td>...</td>\n",
       "      <td>...</td>\n",
       "      <td>...</td>\n",
       "      <td>...</td>\n",
       "      <td>...</td>\n",
       "      <td>...</td>\n",
       "      <td>...</td>\n",
       "    </tr>\n",
       "    <tr>\n",
       "      <th>50576</th>\n",
       "      <td>subdue</td>\n",
       "      <td>Ellipsis</td>\n",
       "      <td>Ellipsis</td>\n",
       "      <td>Ellipsis</td>\n",
       "      <td>Ellipsis</td>\n",
       "      <td>Ellipsis</td>\n",
       "      <td>Ellipsis</td>\n",
       "      <td>Ellipsis</td>\n",
       "      <td>Ellipsis</td>\n",
       "      <td>Ellipsis</td>\n",
       "      <td>Ellipsis</td>\n",
       "      <td>NaN</td>\n",
       "      <td>Ellipsis</td>\n",
       "      <td>Ellipsis</td>\n",
       "    </tr>\n",
       "    <tr>\n",
       "      <th>50577</th>\n",
       "      <td>century of birthing</td>\n",
       "      <td>Ellipsis</td>\n",
       "      <td>Ellipsis</td>\n",
       "      <td>Ellipsis</td>\n",
       "      <td>Ellipsis</td>\n",
       "      <td>Ellipsis</td>\n",
       "      <td>Ellipsis</td>\n",
       "      <td>Ellipsis</td>\n",
       "      <td>Ellipsis</td>\n",
       "      <td>Ellipsis</td>\n",
       "      <td>Ellipsis</td>\n",
       "      <td>NaN</td>\n",
       "      <td>Ellipsis</td>\n",
       "      <td>Ellipsis</td>\n",
       "    </tr>\n",
       "    <tr>\n",
       "      <th>50578</th>\n",
       "      <td>betrayal</td>\n",
       "      <td>Ellipsis</td>\n",
       "      <td>Ellipsis</td>\n",
       "      <td>Ellipsis</td>\n",
       "      <td>Ellipsis</td>\n",
       "      <td>Ellipsis</td>\n",
       "      <td>Ellipsis</td>\n",
       "      <td>Ellipsis</td>\n",
       "      <td>Ellipsis</td>\n",
       "      <td>Ellipsis</td>\n",
       "      <td>Ellipsis</td>\n",
       "      <td>NaN</td>\n",
       "      <td>Ellipsis</td>\n",
       "      <td>Ellipsis</td>\n",
       "    </tr>\n",
       "    <tr>\n",
       "      <th>50579</th>\n",
       "      <td>satan triumphant</td>\n",
       "      <td>Ellipsis</td>\n",
       "      <td>Ellipsis</td>\n",
       "      <td>Ellipsis</td>\n",
       "      <td>Ellipsis</td>\n",
       "      <td>Ellipsis</td>\n",
       "      <td>Ellipsis</td>\n",
       "      <td>Ellipsis</td>\n",
       "      <td>Ellipsis</td>\n",
       "      <td>Ellipsis</td>\n",
       "      <td>Ellipsis</td>\n",
       "      <td>NaN</td>\n",
       "      <td>Ellipsis</td>\n",
       "      <td>Ellipsis</td>\n",
       "    </tr>\n",
       "    <tr>\n",
       "      <th>50580</th>\n",
       "      <td>queerama</td>\n",
       "      <td>Ellipsis</td>\n",
       "      <td>Ellipsis</td>\n",
       "      <td>Ellipsis</td>\n",
       "      <td>Ellipsis</td>\n",
       "      <td>Ellipsis</td>\n",
       "      <td>Ellipsis</td>\n",
       "      <td>Ellipsis</td>\n",
       "      <td>Ellipsis</td>\n",
       "      <td>Ellipsis</td>\n",
       "      <td>Ellipsis</td>\n",
       "      <td>NaN</td>\n",
       "      <td>Ellipsis</td>\n",
       "      <td>Ellipsis</td>\n",
       "    </tr>\n",
       "  </tbody>\n",
       "</table>\n",
       "<p>50578 rows × 14 columns</p>\n",
       "</div>"
      ],
      "text/plain": [
       "                                                   title director_name  \\\n",
       "0                                                 avatar      Ellipsis   \n",
       "1               pirates of the caribbean: at world's end      Ellipsis   \n",
       "2                                                spectre      Ellipsis   \n",
       "3                                  the dark knight rises      Ellipsis   \n",
       "4      star wars: episode vii - the force awakens    ...      Ellipsis   \n",
       "...                                                  ...           ...   \n",
       "50576                                             subdue      Ellipsis   \n",
       "50577                                century of birthing      Ellipsis   \n",
       "50578                                           betrayal      Ellipsis   \n",
       "50579                                   satan triumphant      Ellipsis   \n",
       "50580                                           queerama      Ellipsis   \n",
       "\n",
       "      actor_1_name actor_2_name actor_3_name  duration    genres  language  \\\n",
       "0         Ellipsis     Ellipsis     Ellipsis  Ellipsis  Ellipsis  Ellipsis   \n",
       "1         Ellipsis     Ellipsis     Ellipsis  Ellipsis  Ellipsis  Ellipsis   \n",
       "2         Ellipsis     Ellipsis     Ellipsis  Ellipsis  Ellipsis  Ellipsis   \n",
       "3         Ellipsis     Ellipsis     Ellipsis  Ellipsis  Ellipsis  Ellipsis   \n",
       "4         Ellipsis     Ellipsis     Ellipsis  Ellipsis  Ellipsis  Ellipsis   \n",
       "...            ...          ...          ...       ...       ...       ...   \n",
       "50576     Ellipsis     Ellipsis     Ellipsis  Ellipsis  Ellipsis  Ellipsis   \n",
       "50577     Ellipsis     Ellipsis     Ellipsis  Ellipsis  Ellipsis  Ellipsis   \n",
       "50578     Ellipsis     Ellipsis     Ellipsis  Ellipsis  Ellipsis  Ellipsis   \n",
       "50579     Ellipsis     Ellipsis     Ellipsis  Ellipsis  Ellipsis  Ellipsis   \n",
       "50580     Ellipsis     Ellipsis     Ellipsis  Ellipsis  Ellipsis  Ellipsis   \n",
       "\n",
       "        country    budget      year  imdb_score production_companies   revenue  \n",
       "0      Ellipsis  Ellipsis  Ellipsis         7.9             Ellipsis  Ellipsis  \n",
       "1      Ellipsis  Ellipsis  Ellipsis         7.1             Ellipsis  Ellipsis  \n",
       "2      Ellipsis  Ellipsis  Ellipsis         6.8             Ellipsis  Ellipsis  \n",
       "3      Ellipsis  Ellipsis  Ellipsis         8.5             Ellipsis  Ellipsis  \n",
       "4      Ellipsis  Ellipsis  Ellipsis         7.1             Ellipsis  Ellipsis  \n",
       "...         ...       ...       ...         ...                  ...       ...  \n",
       "50576  Ellipsis  Ellipsis  Ellipsis         NaN             Ellipsis  Ellipsis  \n",
       "50577  Ellipsis  Ellipsis  Ellipsis         NaN             Ellipsis  Ellipsis  \n",
       "50578  Ellipsis  Ellipsis  Ellipsis         NaN             Ellipsis  Ellipsis  \n",
       "50579  Ellipsis  Ellipsis  Ellipsis         NaN             Ellipsis  Ellipsis  \n",
       "50580  Ellipsis  Ellipsis  Ellipsis         NaN             Ellipsis  Ellipsis  \n",
       "\n",
       "[50578 rows x 14 columns]"
      ]
     },
     "execution_count": 40,
     "metadata": {},
     "output_type": "execute_result"
    }
   ],
   "source": [
    "df"
   ]
  },
  {
   "cell_type": "code",
   "execution_count": null,
   "metadata": {},
   "outputs": [],
   "source": [
    "df.to_csv('data/data.csv', index=False)"
   ]
  }
 ],
 "metadata": {
  "kernelspec": {
   "display_name": "ml",
   "language": "python",
   "name": "python3"
  },
  "language_info": {
   "codemirror_mode": {
    "name": "ipython",
    "version": 3
   },
   "file_extension": ".py",
   "mimetype": "text/x-python",
   "name": "python",
   "nbconvert_exporter": "python",
   "pygments_lexer": "ipython3",
   "version": "3.11.5"
  }
 },
 "nbformat": 4,
 "nbformat_minor": 2
}
